{
  "nbformat": 4,
  "nbformat_minor": 0,
  "metadata": {
    "colab": {
      "name": "Untitled1.ipynb",
      "provenance": [],
      "collapsed_sections": []
    },
    "kernelspec": {
      "name": "python3",
      "display_name": "Python 3"
    },
    "language_info": {
      "name": "python"
    },
    "accelerator": "GPU",
    "widgets": {
      "application/vnd.jupyter.widget-state+json": {
        "80b1895d54ce41e7b380bb9fad0bef2d": {
          "model_module": "@jupyter-widgets/controls",
          "model_name": "HBoxModel",
          "model_module_version": "1.5.0",
          "state": {
            "_view_name": "HBoxView",
            "_dom_classes": [],
            "_model_name": "HBoxModel",
            "_view_module": "@jupyter-widgets/controls",
            "_model_module_version": "1.5.0",
            "_view_count": null,
            "_view_module_version": "1.5.0",
            "box_style": "",
            "layout": "IPY_MODEL_479e0b8c9ba74600b2acdb787df3a44c",
            "_model_module": "@jupyter-widgets/controls",
            "children": [
              "IPY_MODEL_280072278c0c467691eccfd482461011",
              "IPY_MODEL_6a6264e81ec3453b82ff937061d16113",
              "IPY_MODEL_2434db9c02314f73bf8034d5d9c6174e"
            ]
          }
        },
        "479e0b8c9ba74600b2acdb787df3a44c": {
          "model_module": "@jupyter-widgets/base",
          "model_name": "LayoutModel",
          "model_module_version": "1.2.0",
          "state": {
            "_view_name": "LayoutView",
            "grid_template_rows": null,
            "right": null,
            "justify_content": null,
            "_view_module": "@jupyter-widgets/base",
            "overflow": null,
            "_model_module_version": "1.2.0",
            "_view_count": null,
            "flex_flow": null,
            "width": null,
            "min_width": null,
            "border": null,
            "align_items": null,
            "bottom": null,
            "_model_module": "@jupyter-widgets/base",
            "top": null,
            "grid_column": null,
            "overflow_y": null,
            "overflow_x": null,
            "grid_auto_flow": null,
            "grid_area": null,
            "grid_template_columns": null,
            "flex": null,
            "_model_name": "LayoutModel",
            "justify_items": null,
            "grid_row": null,
            "max_height": null,
            "align_content": null,
            "visibility": null,
            "align_self": null,
            "height": null,
            "min_height": null,
            "padding": null,
            "grid_auto_rows": null,
            "grid_gap": null,
            "max_width": null,
            "order": null,
            "_view_module_version": "1.2.0",
            "grid_template_areas": null,
            "object_position": null,
            "object_fit": null,
            "grid_auto_columns": null,
            "margin": null,
            "display": null,
            "left": null
          }
        },
        "280072278c0c467691eccfd482461011": {
          "model_module": "@jupyter-widgets/controls",
          "model_name": "HTMLModel",
          "model_module_version": "1.5.0",
          "state": {
            "_view_name": "HTMLView",
            "style": "IPY_MODEL_48002e60dfab41a785d11bd829e9541d",
            "_dom_classes": [],
            "description": "",
            "_model_name": "HTMLModel",
            "placeholder": "​",
            "_view_module": "@jupyter-widgets/controls",
            "_model_module_version": "1.5.0",
            "value": "Downloading: 100%",
            "_view_count": null,
            "_view_module_version": "1.5.0",
            "description_tooltip": null,
            "_model_module": "@jupyter-widgets/controls",
            "layout": "IPY_MODEL_d90cb93615204e87b68deb06d0393733"
          }
        },
        "6a6264e81ec3453b82ff937061d16113": {
          "model_module": "@jupyter-widgets/controls",
          "model_name": "FloatProgressModel",
          "model_module_version": "1.5.0",
          "state": {
            "_view_name": "ProgressView",
            "style": "IPY_MODEL_573458712a454bcdbfa782ee93f44882",
            "_dom_classes": [],
            "description": "",
            "_model_name": "FloatProgressModel",
            "bar_style": "success",
            "max": 629,
            "_view_module": "@jupyter-widgets/controls",
            "_model_module_version": "1.5.0",
            "value": 629,
            "_view_count": null,
            "_view_module_version": "1.5.0",
            "orientation": "horizontal",
            "min": 0,
            "description_tooltip": null,
            "_model_module": "@jupyter-widgets/controls",
            "layout": "IPY_MODEL_0ac20b829ca248d98fcfe560cebf3014"
          }
        },
        "2434db9c02314f73bf8034d5d9c6174e": {
          "model_module": "@jupyter-widgets/controls",
          "model_name": "HTMLModel",
          "model_module_version": "1.5.0",
          "state": {
            "_view_name": "HTMLView",
            "style": "IPY_MODEL_f2624ea155424166ba7c1b1cd5b2a2d0",
            "_dom_classes": [],
            "description": "",
            "_model_name": "HTMLModel",
            "placeholder": "​",
            "_view_module": "@jupyter-widgets/controls",
            "_model_module_version": "1.5.0",
            "value": " 629/629 [00:00&lt;00:00, 12.2kB/s]",
            "_view_count": null,
            "_view_module_version": "1.5.0",
            "description_tooltip": null,
            "_model_module": "@jupyter-widgets/controls",
            "layout": "IPY_MODEL_030dc3afd4e84117bfc0011df52c0569"
          }
        },
        "48002e60dfab41a785d11bd829e9541d": {
          "model_module": "@jupyter-widgets/controls",
          "model_name": "DescriptionStyleModel",
          "model_module_version": "1.5.0",
          "state": {
            "_view_name": "StyleView",
            "_model_name": "DescriptionStyleModel",
            "description_width": "",
            "_view_module": "@jupyter-widgets/base",
            "_model_module_version": "1.5.0",
            "_view_count": null,
            "_view_module_version": "1.2.0",
            "_model_module": "@jupyter-widgets/controls"
          }
        },
        "d90cb93615204e87b68deb06d0393733": {
          "model_module": "@jupyter-widgets/base",
          "model_name": "LayoutModel",
          "model_module_version": "1.2.0",
          "state": {
            "_view_name": "LayoutView",
            "grid_template_rows": null,
            "right": null,
            "justify_content": null,
            "_view_module": "@jupyter-widgets/base",
            "overflow": null,
            "_model_module_version": "1.2.0",
            "_view_count": null,
            "flex_flow": null,
            "width": null,
            "min_width": null,
            "border": null,
            "align_items": null,
            "bottom": null,
            "_model_module": "@jupyter-widgets/base",
            "top": null,
            "grid_column": null,
            "overflow_y": null,
            "overflow_x": null,
            "grid_auto_flow": null,
            "grid_area": null,
            "grid_template_columns": null,
            "flex": null,
            "_model_name": "LayoutModel",
            "justify_items": null,
            "grid_row": null,
            "max_height": null,
            "align_content": null,
            "visibility": null,
            "align_self": null,
            "height": null,
            "min_height": null,
            "padding": null,
            "grid_auto_rows": null,
            "grid_gap": null,
            "max_width": null,
            "order": null,
            "_view_module_version": "1.2.0",
            "grid_template_areas": null,
            "object_position": null,
            "object_fit": null,
            "grid_auto_columns": null,
            "margin": null,
            "display": null,
            "left": null
          }
        },
        "573458712a454bcdbfa782ee93f44882": {
          "model_module": "@jupyter-widgets/controls",
          "model_name": "ProgressStyleModel",
          "model_module_version": "1.5.0",
          "state": {
            "_view_name": "StyleView",
            "_model_name": "ProgressStyleModel",
            "description_width": "",
            "_view_module": "@jupyter-widgets/base",
            "_model_module_version": "1.5.0",
            "_view_count": null,
            "_view_module_version": "1.2.0",
            "bar_color": null,
            "_model_module": "@jupyter-widgets/controls"
          }
        },
        "0ac20b829ca248d98fcfe560cebf3014": {
          "model_module": "@jupyter-widgets/base",
          "model_name": "LayoutModel",
          "model_module_version": "1.2.0",
          "state": {
            "_view_name": "LayoutView",
            "grid_template_rows": null,
            "right": null,
            "justify_content": null,
            "_view_module": "@jupyter-widgets/base",
            "overflow": null,
            "_model_module_version": "1.2.0",
            "_view_count": null,
            "flex_flow": null,
            "width": null,
            "min_width": null,
            "border": null,
            "align_items": null,
            "bottom": null,
            "_model_module": "@jupyter-widgets/base",
            "top": null,
            "grid_column": null,
            "overflow_y": null,
            "overflow_x": null,
            "grid_auto_flow": null,
            "grid_area": null,
            "grid_template_columns": null,
            "flex": null,
            "_model_name": "LayoutModel",
            "justify_items": null,
            "grid_row": null,
            "max_height": null,
            "align_content": null,
            "visibility": null,
            "align_self": null,
            "height": null,
            "min_height": null,
            "padding": null,
            "grid_auto_rows": null,
            "grid_gap": null,
            "max_width": null,
            "order": null,
            "_view_module_version": "1.2.0",
            "grid_template_areas": null,
            "object_position": null,
            "object_fit": null,
            "grid_auto_columns": null,
            "margin": null,
            "display": null,
            "left": null
          }
        },
        "f2624ea155424166ba7c1b1cd5b2a2d0": {
          "model_module": "@jupyter-widgets/controls",
          "model_name": "DescriptionStyleModel",
          "model_module_version": "1.5.0",
          "state": {
            "_view_name": "StyleView",
            "_model_name": "DescriptionStyleModel",
            "description_width": "",
            "_view_module": "@jupyter-widgets/base",
            "_model_module_version": "1.5.0",
            "_view_count": null,
            "_view_module_version": "1.2.0",
            "_model_module": "@jupyter-widgets/controls"
          }
        },
        "030dc3afd4e84117bfc0011df52c0569": {
          "model_module": "@jupyter-widgets/base",
          "model_name": "LayoutModel",
          "model_module_version": "1.2.0",
          "state": {
            "_view_name": "LayoutView",
            "grid_template_rows": null,
            "right": null,
            "justify_content": null,
            "_view_module": "@jupyter-widgets/base",
            "overflow": null,
            "_model_module_version": "1.2.0",
            "_view_count": null,
            "flex_flow": null,
            "width": null,
            "min_width": null,
            "border": null,
            "align_items": null,
            "bottom": null,
            "_model_module": "@jupyter-widgets/base",
            "top": null,
            "grid_column": null,
            "overflow_y": null,
            "overflow_x": null,
            "grid_auto_flow": null,
            "grid_area": null,
            "grid_template_columns": null,
            "flex": null,
            "_model_name": "LayoutModel",
            "justify_items": null,
            "grid_row": null,
            "max_height": null,
            "align_content": null,
            "visibility": null,
            "align_self": null,
            "height": null,
            "min_height": null,
            "padding": null,
            "grid_auto_rows": null,
            "grid_gap": null,
            "max_width": null,
            "order": null,
            "_view_module_version": "1.2.0",
            "grid_template_areas": null,
            "object_position": null,
            "object_fit": null,
            "grid_auto_columns": null,
            "margin": null,
            "display": null,
            "left": null
          }
        },
        "d38982b7f427474ab4a6233745d72b5b": {
          "model_module": "@jupyter-widgets/controls",
          "model_name": "HBoxModel",
          "model_module_version": "1.5.0",
          "state": {
            "_view_name": "HBoxView",
            "_dom_classes": [],
            "_model_name": "HBoxModel",
            "_view_module": "@jupyter-widgets/controls",
            "_model_module_version": "1.5.0",
            "_view_count": null,
            "_view_module_version": "1.5.0",
            "box_style": "",
            "layout": "IPY_MODEL_e6a4da06609142d3afa1cec1317a2eae",
            "_model_module": "@jupyter-widgets/controls",
            "children": [
              "IPY_MODEL_4d89109d1aa343889f497cef50143ec5",
              "IPY_MODEL_d0d7e5a2026044dd8cfae719c7cb7db0",
              "IPY_MODEL_b69ae25e1d504ea39c6a8765e487d1ea"
            ]
          }
        },
        "e6a4da06609142d3afa1cec1317a2eae": {
          "model_module": "@jupyter-widgets/base",
          "model_name": "LayoutModel",
          "model_module_version": "1.2.0",
          "state": {
            "_view_name": "LayoutView",
            "grid_template_rows": null,
            "right": null,
            "justify_content": null,
            "_view_module": "@jupyter-widgets/base",
            "overflow": null,
            "_model_module_version": "1.2.0",
            "_view_count": null,
            "flex_flow": null,
            "width": null,
            "min_width": null,
            "border": null,
            "align_items": null,
            "bottom": null,
            "_model_module": "@jupyter-widgets/base",
            "top": null,
            "grid_column": null,
            "overflow_y": null,
            "overflow_x": null,
            "grid_auto_flow": null,
            "grid_area": null,
            "grid_template_columns": null,
            "flex": null,
            "_model_name": "LayoutModel",
            "justify_items": null,
            "grid_row": null,
            "max_height": null,
            "align_content": null,
            "visibility": null,
            "align_self": null,
            "height": null,
            "min_height": null,
            "padding": null,
            "grid_auto_rows": null,
            "grid_gap": null,
            "max_width": null,
            "order": null,
            "_view_module_version": "1.2.0",
            "grid_template_areas": null,
            "object_position": null,
            "object_fit": null,
            "grid_auto_columns": null,
            "margin": null,
            "display": null,
            "left": null
          }
        },
        "4d89109d1aa343889f497cef50143ec5": {
          "model_module": "@jupyter-widgets/controls",
          "model_name": "HTMLModel",
          "model_module_version": "1.5.0",
          "state": {
            "_view_name": "HTMLView",
            "style": "IPY_MODEL_0d70ee741b4b48c484193e08bcbb990f",
            "_dom_classes": [],
            "description": "",
            "_model_name": "HTMLModel",
            "placeholder": "​",
            "_view_module": "@jupyter-widgets/controls",
            "_model_module_version": "1.5.0",
            "value": "Downloading: 100%",
            "_view_count": null,
            "_view_module_version": "1.5.0",
            "description_tooltip": null,
            "_model_module": "@jupyter-widgets/controls",
            "layout": "IPY_MODEL_70ddbb0eb90d46c4b86d8697c1b21fa3"
          }
        },
        "d0d7e5a2026044dd8cfae719c7cb7db0": {
          "model_module": "@jupyter-widgets/controls",
          "model_name": "FloatProgressModel",
          "model_module_version": "1.5.0",
          "state": {
            "_view_name": "ProgressView",
            "style": "IPY_MODEL_4a98075b1c04429d8316652336e77892",
            "_dom_classes": [],
            "description": "",
            "_model_name": "FloatProgressModel",
            "bar_style": "success",
            "max": 267844284,
            "_view_module": "@jupyter-widgets/controls",
            "_model_module_version": "1.5.0",
            "value": 267844284,
            "_view_count": null,
            "_view_module_version": "1.5.0",
            "orientation": "horizontal",
            "min": 0,
            "description_tooltip": null,
            "_model_module": "@jupyter-widgets/controls",
            "layout": "IPY_MODEL_9451c14cfb20478f85be9f08c11d6519"
          }
        },
        "b69ae25e1d504ea39c6a8765e487d1ea": {
          "model_module": "@jupyter-widgets/controls",
          "model_name": "HTMLModel",
          "model_module_version": "1.5.0",
          "state": {
            "_view_name": "HTMLView",
            "style": "IPY_MODEL_584dbc1d555343fcb1d491bf60afd4db",
            "_dom_classes": [],
            "description": "",
            "_model_name": "HTMLModel",
            "placeholder": "​",
            "_view_module": "@jupyter-widgets/controls",
            "_model_module_version": "1.5.0",
            "value": " 255M/255M [00:09&lt;00:00, 30.5MB/s]",
            "_view_count": null,
            "_view_module_version": "1.5.0",
            "description_tooltip": null,
            "_model_module": "@jupyter-widgets/controls",
            "layout": "IPY_MODEL_909bd799ab72420eb38d4de0317610f6"
          }
        },
        "0d70ee741b4b48c484193e08bcbb990f": {
          "model_module": "@jupyter-widgets/controls",
          "model_name": "DescriptionStyleModel",
          "model_module_version": "1.5.0",
          "state": {
            "_view_name": "StyleView",
            "_model_name": "DescriptionStyleModel",
            "description_width": "",
            "_view_module": "@jupyter-widgets/base",
            "_model_module_version": "1.5.0",
            "_view_count": null,
            "_view_module_version": "1.2.0",
            "_model_module": "@jupyter-widgets/controls"
          }
        },
        "70ddbb0eb90d46c4b86d8697c1b21fa3": {
          "model_module": "@jupyter-widgets/base",
          "model_name": "LayoutModel",
          "model_module_version": "1.2.0",
          "state": {
            "_view_name": "LayoutView",
            "grid_template_rows": null,
            "right": null,
            "justify_content": null,
            "_view_module": "@jupyter-widgets/base",
            "overflow": null,
            "_model_module_version": "1.2.0",
            "_view_count": null,
            "flex_flow": null,
            "width": null,
            "min_width": null,
            "border": null,
            "align_items": null,
            "bottom": null,
            "_model_module": "@jupyter-widgets/base",
            "top": null,
            "grid_column": null,
            "overflow_y": null,
            "overflow_x": null,
            "grid_auto_flow": null,
            "grid_area": null,
            "grid_template_columns": null,
            "flex": null,
            "_model_name": "LayoutModel",
            "justify_items": null,
            "grid_row": null,
            "max_height": null,
            "align_content": null,
            "visibility": null,
            "align_self": null,
            "height": null,
            "min_height": null,
            "padding": null,
            "grid_auto_rows": null,
            "grid_gap": null,
            "max_width": null,
            "order": null,
            "_view_module_version": "1.2.0",
            "grid_template_areas": null,
            "object_position": null,
            "object_fit": null,
            "grid_auto_columns": null,
            "margin": null,
            "display": null,
            "left": null
          }
        },
        "4a98075b1c04429d8316652336e77892": {
          "model_module": "@jupyter-widgets/controls",
          "model_name": "ProgressStyleModel",
          "model_module_version": "1.5.0",
          "state": {
            "_view_name": "StyleView",
            "_model_name": "ProgressStyleModel",
            "description_width": "",
            "_view_module": "@jupyter-widgets/base",
            "_model_module_version": "1.5.0",
            "_view_count": null,
            "_view_module_version": "1.2.0",
            "bar_color": null,
            "_model_module": "@jupyter-widgets/controls"
          }
        },
        "9451c14cfb20478f85be9f08c11d6519": {
          "model_module": "@jupyter-widgets/base",
          "model_name": "LayoutModel",
          "model_module_version": "1.2.0",
          "state": {
            "_view_name": "LayoutView",
            "grid_template_rows": null,
            "right": null,
            "justify_content": null,
            "_view_module": "@jupyter-widgets/base",
            "overflow": null,
            "_model_module_version": "1.2.0",
            "_view_count": null,
            "flex_flow": null,
            "width": null,
            "min_width": null,
            "border": null,
            "align_items": null,
            "bottom": null,
            "_model_module": "@jupyter-widgets/base",
            "top": null,
            "grid_column": null,
            "overflow_y": null,
            "overflow_x": null,
            "grid_auto_flow": null,
            "grid_area": null,
            "grid_template_columns": null,
            "flex": null,
            "_model_name": "LayoutModel",
            "justify_items": null,
            "grid_row": null,
            "max_height": null,
            "align_content": null,
            "visibility": null,
            "align_self": null,
            "height": null,
            "min_height": null,
            "padding": null,
            "grid_auto_rows": null,
            "grid_gap": null,
            "max_width": null,
            "order": null,
            "_view_module_version": "1.2.0",
            "grid_template_areas": null,
            "object_position": null,
            "object_fit": null,
            "grid_auto_columns": null,
            "margin": null,
            "display": null,
            "left": null
          }
        },
        "584dbc1d555343fcb1d491bf60afd4db": {
          "model_module": "@jupyter-widgets/controls",
          "model_name": "DescriptionStyleModel",
          "model_module_version": "1.5.0",
          "state": {
            "_view_name": "StyleView",
            "_model_name": "DescriptionStyleModel",
            "description_width": "",
            "_view_module": "@jupyter-widgets/base",
            "_model_module_version": "1.5.0",
            "_view_count": null,
            "_view_module_version": "1.2.0",
            "_model_module": "@jupyter-widgets/controls"
          }
        },
        "909bd799ab72420eb38d4de0317610f6": {
          "model_module": "@jupyter-widgets/base",
          "model_name": "LayoutModel",
          "model_module_version": "1.2.0",
          "state": {
            "_view_name": "LayoutView",
            "grid_template_rows": null,
            "right": null,
            "justify_content": null,
            "_view_module": "@jupyter-widgets/base",
            "overflow": null,
            "_model_module_version": "1.2.0",
            "_view_count": null,
            "flex_flow": null,
            "width": null,
            "min_width": null,
            "border": null,
            "align_items": null,
            "bottom": null,
            "_model_module": "@jupyter-widgets/base",
            "top": null,
            "grid_column": null,
            "overflow_y": null,
            "overflow_x": null,
            "grid_auto_flow": null,
            "grid_area": null,
            "grid_template_columns": null,
            "flex": null,
            "_model_name": "LayoutModel",
            "justify_items": null,
            "grid_row": null,
            "max_height": null,
            "align_content": null,
            "visibility": null,
            "align_self": null,
            "height": null,
            "min_height": null,
            "padding": null,
            "grid_auto_rows": null,
            "grid_gap": null,
            "max_width": null,
            "order": null,
            "_view_module_version": "1.2.0",
            "grid_template_areas": null,
            "object_position": null,
            "object_fit": null,
            "grid_auto_columns": null,
            "margin": null,
            "display": null,
            "left": null
          }
        },
        "3b5960ff2c224c3db21e11a374dd6df9": {
          "model_module": "@jupyter-widgets/controls",
          "model_name": "HBoxModel",
          "model_module_version": "1.5.0",
          "state": {
            "_view_name": "HBoxView",
            "_dom_classes": [],
            "_model_name": "HBoxModel",
            "_view_module": "@jupyter-widgets/controls",
            "_model_module_version": "1.5.0",
            "_view_count": null,
            "_view_module_version": "1.5.0",
            "box_style": "",
            "layout": "IPY_MODEL_84c4eaa2611a43bf80856b37eac42684",
            "_model_module": "@jupyter-widgets/controls",
            "children": [
              "IPY_MODEL_85a1135cd3804c439be2fadae47ce370",
              "IPY_MODEL_9123a91b112844918991a0794349ae95",
              "IPY_MODEL_12ad9cec4ae2461aafe17a1f4982d8df"
            ]
          }
        },
        "84c4eaa2611a43bf80856b37eac42684": {
          "model_module": "@jupyter-widgets/base",
          "model_name": "LayoutModel",
          "model_module_version": "1.2.0",
          "state": {
            "_view_name": "LayoutView",
            "grid_template_rows": null,
            "right": null,
            "justify_content": null,
            "_view_module": "@jupyter-widgets/base",
            "overflow": null,
            "_model_module_version": "1.2.0",
            "_view_count": null,
            "flex_flow": null,
            "width": null,
            "min_width": null,
            "border": null,
            "align_items": null,
            "bottom": null,
            "_model_module": "@jupyter-widgets/base",
            "top": null,
            "grid_column": null,
            "overflow_y": null,
            "overflow_x": null,
            "grid_auto_flow": null,
            "grid_area": null,
            "grid_template_columns": null,
            "flex": null,
            "_model_name": "LayoutModel",
            "justify_items": null,
            "grid_row": null,
            "max_height": null,
            "align_content": null,
            "visibility": null,
            "align_self": null,
            "height": null,
            "min_height": null,
            "padding": null,
            "grid_auto_rows": null,
            "grid_gap": null,
            "max_width": null,
            "order": null,
            "_view_module_version": "1.2.0",
            "grid_template_areas": null,
            "object_position": null,
            "object_fit": null,
            "grid_auto_columns": null,
            "margin": null,
            "display": null,
            "left": null
          }
        },
        "85a1135cd3804c439be2fadae47ce370": {
          "model_module": "@jupyter-widgets/controls",
          "model_name": "HTMLModel",
          "model_module_version": "1.5.0",
          "state": {
            "_view_name": "HTMLView",
            "style": "IPY_MODEL_d0987a95984c4359aa3a2c0139507421",
            "_dom_classes": [],
            "description": "",
            "_model_name": "HTMLModel",
            "placeholder": "​",
            "_view_module": "@jupyter-widgets/controls",
            "_model_module_version": "1.5.0",
            "value": "Downloading: 100%",
            "_view_count": null,
            "_view_module_version": "1.5.0",
            "description_tooltip": null,
            "_model_module": "@jupyter-widgets/controls",
            "layout": "IPY_MODEL_3565a225454446af9f475ea13e96a250"
          }
        },
        "9123a91b112844918991a0794349ae95": {
          "model_module": "@jupyter-widgets/controls",
          "model_name": "FloatProgressModel",
          "model_module_version": "1.5.0",
          "state": {
            "_view_name": "ProgressView",
            "style": "IPY_MODEL_382f692017254c968a2bef99c5cf9a02",
            "_dom_classes": [],
            "description": "",
            "_model_name": "FloatProgressModel",
            "bar_style": "success",
            "max": 48,
            "_view_module": "@jupyter-widgets/controls",
            "_model_module_version": "1.5.0",
            "value": 48,
            "_view_count": null,
            "_view_module_version": "1.5.0",
            "orientation": "horizontal",
            "min": 0,
            "description_tooltip": null,
            "_model_module": "@jupyter-widgets/controls",
            "layout": "IPY_MODEL_63d635b2e50a4801b13631b0b9e36932"
          }
        },
        "12ad9cec4ae2461aafe17a1f4982d8df": {
          "model_module": "@jupyter-widgets/controls",
          "model_name": "HTMLModel",
          "model_module_version": "1.5.0",
          "state": {
            "_view_name": "HTMLView",
            "style": "IPY_MODEL_1d761751cb7d42c4809364fe0b4cbfdd",
            "_dom_classes": [],
            "description": "",
            "_model_name": "HTMLModel",
            "placeholder": "​",
            "_view_module": "@jupyter-widgets/controls",
            "_model_module_version": "1.5.0",
            "value": " 48.0/48.0 [00:00&lt;00:00, 785B/s]",
            "_view_count": null,
            "_view_module_version": "1.5.0",
            "description_tooltip": null,
            "_model_module": "@jupyter-widgets/controls",
            "layout": "IPY_MODEL_e32a7af14ca749979adacbd5db7cbc6b"
          }
        },
        "d0987a95984c4359aa3a2c0139507421": {
          "model_module": "@jupyter-widgets/controls",
          "model_name": "DescriptionStyleModel",
          "model_module_version": "1.5.0",
          "state": {
            "_view_name": "StyleView",
            "_model_name": "DescriptionStyleModel",
            "description_width": "",
            "_view_module": "@jupyter-widgets/base",
            "_model_module_version": "1.5.0",
            "_view_count": null,
            "_view_module_version": "1.2.0",
            "_model_module": "@jupyter-widgets/controls"
          }
        },
        "3565a225454446af9f475ea13e96a250": {
          "model_module": "@jupyter-widgets/base",
          "model_name": "LayoutModel",
          "model_module_version": "1.2.0",
          "state": {
            "_view_name": "LayoutView",
            "grid_template_rows": null,
            "right": null,
            "justify_content": null,
            "_view_module": "@jupyter-widgets/base",
            "overflow": null,
            "_model_module_version": "1.2.0",
            "_view_count": null,
            "flex_flow": null,
            "width": null,
            "min_width": null,
            "border": null,
            "align_items": null,
            "bottom": null,
            "_model_module": "@jupyter-widgets/base",
            "top": null,
            "grid_column": null,
            "overflow_y": null,
            "overflow_x": null,
            "grid_auto_flow": null,
            "grid_area": null,
            "grid_template_columns": null,
            "flex": null,
            "_model_name": "LayoutModel",
            "justify_items": null,
            "grid_row": null,
            "max_height": null,
            "align_content": null,
            "visibility": null,
            "align_self": null,
            "height": null,
            "min_height": null,
            "padding": null,
            "grid_auto_rows": null,
            "grid_gap": null,
            "max_width": null,
            "order": null,
            "_view_module_version": "1.2.0",
            "grid_template_areas": null,
            "object_position": null,
            "object_fit": null,
            "grid_auto_columns": null,
            "margin": null,
            "display": null,
            "left": null
          }
        },
        "382f692017254c968a2bef99c5cf9a02": {
          "model_module": "@jupyter-widgets/controls",
          "model_name": "ProgressStyleModel",
          "model_module_version": "1.5.0",
          "state": {
            "_view_name": "StyleView",
            "_model_name": "ProgressStyleModel",
            "description_width": "",
            "_view_module": "@jupyter-widgets/base",
            "_model_module_version": "1.5.0",
            "_view_count": null,
            "_view_module_version": "1.2.0",
            "bar_color": null,
            "_model_module": "@jupyter-widgets/controls"
          }
        },
        "63d635b2e50a4801b13631b0b9e36932": {
          "model_module": "@jupyter-widgets/base",
          "model_name": "LayoutModel",
          "model_module_version": "1.2.0",
          "state": {
            "_view_name": "LayoutView",
            "grid_template_rows": null,
            "right": null,
            "justify_content": null,
            "_view_module": "@jupyter-widgets/base",
            "overflow": null,
            "_model_module_version": "1.2.0",
            "_view_count": null,
            "flex_flow": null,
            "width": null,
            "min_width": null,
            "border": null,
            "align_items": null,
            "bottom": null,
            "_model_module": "@jupyter-widgets/base",
            "top": null,
            "grid_column": null,
            "overflow_y": null,
            "overflow_x": null,
            "grid_auto_flow": null,
            "grid_area": null,
            "grid_template_columns": null,
            "flex": null,
            "_model_name": "LayoutModel",
            "justify_items": null,
            "grid_row": null,
            "max_height": null,
            "align_content": null,
            "visibility": null,
            "align_self": null,
            "height": null,
            "min_height": null,
            "padding": null,
            "grid_auto_rows": null,
            "grid_gap": null,
            "max_width": null,
            "order": null,
            "_view_module_version": "1.2.0",
            "grid_template_areas": null,
            "object_position": null,
            "object_fit": null,
            "grid_auto_columns": null,
            "margin": null,
            "display": null,
            "left": null
          }
        },
        "1d761751cb7d42c4809364fe0b4cbfdd": {
          "model_module": "@jupyter-widgets/controls",
          "model_name": "DescriptionStyleModel",
          "model_module_version": "1.5.0",
          "state": {
            "_view_name": "StyleView",
            "_model_name": "DescriptionStyleModel",
            "description_width": "",
            "_view_module": "@jupyter-widgets/base",
            "_model_module_version": "1.5.0",
            "_view_count": null,
            "_view_module_version": "1.2.0",
            "_model_module": "@jupyter-widgets/controls"
          }
        },
        "e32a7af14ca749979adacbd5db7cbc6b": {
          "model_module": "@jupyter-widgets/base",
          "model_name": "LayoutModel",
          "model_module_version": "1.2.0",
          "state": {
            "_view_name": "LayoutView",
            "grid_template_rows": null,
            "right": null,
            "justify_content": null,
            "_view_module": "@jupyter-widgets/base",
            "overflow": null,
            "_model_module_version": "1.2.0",
            "_view_count": null,
            "flex_flow": null,
            "width": null,
            "min_width": null,
            "border": null,
            "align_items": null,
            "bottom": null,
            "_model_module": "@jupyter-widgets/base",
            "top": null,
            "grid_column": null,
            "overflow_y": null,
            "overflow_x": null,
            "grid_auto_flow": null,
            "grid_area": null,
            "grid_template_columns": null,
            "flex": null,
            "_model_name": "LayoutModel",
            "justify_items": null,
            "grid_row": null,
            "max_height": null,
            "align_content": null,
            "visibility": null,
            "align_self": null,
            "height": null,
            "min_height": null,
            "padding": null,
            "grid_auto_rows": null,
            "grid_gap": null,
            "max_width": null,
            "order": null,
            "_view_module_version": "1.2.0",
            "grid_template_areas": null,
            "object_position": null,
            "object_fit": null,
            "grid_auto_columns": null,
            "margin": null,
            "display": null,
            "left": null
          }
        },
        "d6e3b7a72be64995ae8a6ecde6b3d8d1": {
          "model_module": "@jupyter-widgets/controls",
          "model_name": "HBoxModel",
          "model_module_version": "1.5.0",
          "state": {
            "_view_name": "HBoxView",
            "_dom_classes": [],
            "_model_name": "HBoxModel",
            "_view_module": "@jupyter-widgets/controls",
            "_model_module_version": "1.5.0",
            "_view_count": null,
            "_view_module_version": "1.5.0",
            "box_style": "",
            "layout": "IPY_MODEL_bf0f921deb3a4fd1a68771456b3a761e",
            "_model_module": "@jupyter-widgets/controls",
            "children": [
              "IPY_MODEL_884ca547099b4944804b2ef0c84bb0f6",
              "IPY_MODEL_a664eea1202546fea52a318b533766dd",
              "IPY_MODEL_b4a2d2188d664c72a1fca544f4cee86e"
            ]
          }
        },
        "bf0f921deb3a4fd1a68771456b3a761e": {
          "model_module": "@jupyter-widgets/base",
          "model_name": "LayoutModel",
          "model_module_version": "1.2.0",
          "state": {
            "_view_name": "LayoutView",
            "grid_template_rows": null,
            "right": null,
            "justify_content": null,
            "_view_module": "@jupyter-widgets/base",
            "overflow": null,
            "_model_module_version": "1.2.0",
            "_view_count": null,
            "flex_flow": null,
            "width": null,
            "min_width": null,
            "border": null,
            "align_items": null,
            "bottom": null,
            "_model_module": "@jupyter-widgets/base",
            "top": null,
            "grid_column": null,
            "overflow_y": null,
            "overflow_x": null,
            "grid_auto_flow": null,
            "grid_area": null,
            "grid_template_columns": null,
            "flex": null,
            "_model_name": "LayoutModel",
            "justify_items": null,
            "grid_row": null,
            "max_height": null,
            "align_content": null,
            "visibility": null,
            "align_self": null,
            "height": null,
            "min_height": null,
            "padding": null,
            "grid_auto_rows": null,
            "grid_gap": null,
            "max_width": null,
            "order": null,
            "_view_module_version": "1.2.0",
            "grid_template_areas": null,
            "object_position": null,
            "object_fit": null,
            "grid_auto_columns": null,
            "margin": null,
            "display": null,
            "left": null
          }
        },
        "884ca547099b4944804b2ef0c84bb0f6": {
          "model_module": "@jupyter-widgets/controls",
          "model_name": "HTMLModel",
          "model_module_version": "1.5.0",
          "state": {
            "_view_name": "HTMLView",
            "style": "IPY_MODEL_8a2a4f2d449f4c8a91dfc750dca17853",
            "_dom_classes": [],
            "description": "",
            "_model_name": "HTMLModel",
            "placeholder": "​",
            "_view_module": "@jupyter-widgets/controls",
            "_model_module_version": "1.5.0",
            "value": "Downloading: 100%",
            "_view_count": null,
            "_view_module_version": "1.5.0",
            "description_tooltip": null,
            "_model_module": "@jupyter-widgets/controls",
            "layout": "IPY_MODEL_9640fb3219b44db98f0a4872bc182b92"
          }
        },
        "a664eea1202546fea52a318b533766dd": {
          "model_module": "@jupyter-widgets/controls",
          "model_name": "FloatProgressModel",
          "model_module_version": "1.5.0",
          "state": {
            "_view_name": "ProgressView",
            "style": "IPY_MODEL_a22318ecaab643aba3d13a58f168a385",
            "_dom_classes": [],
            "description": "",
            "_model_name": "FloatProgressModel",
            "bar_style": "success",
            "max": 231508,
            "_view_module": "@jupyter-widgets/controls",
            "_model_module_version": "1.5.0",
            "value": 231508,
            "_view_count": null,
            "_view_module_version": "1.5.0",
            "orientation": "horizontal",
            "min": 0,
            "description_tooltip": null,
            "_model_module": "@jupyter-widgets/controls",
            "layout": "IPY_MODEL_f3f9f3f4359a4127be5131fac601205e"
          }
        },
        "b4a2d2188d664c72a1fca544f4cee86e": {
          "model_module": "@jupyter-widgets/controls",
          "model_name": "HTMLModel",
          "model_module_version": "1.5.0",
          "state": {
            "_view_name": "HTMLView",
            "style": "IPY_MODEL_01e876dde74444c18a014b05a806d6ca",
            "_dom_classes": [],
            "description": "",
            "_model_name": "HTMLModel",
            "placeholder": "​",
            "_view_module": "@jupyter-widgets/controls",
            "_model_module_version": "1.5.0",
            "value": " 226k/226k [00:00&lt;00:00, 968kB/s]",
            "_view_count": null,
            "_view_module_version": "1.5.0",
            "description_tooltip": null,
            "_model_module": "@jupyter-widgets/controls",
            "layout": "IPY_MODEL_88d59158d68841708a5b16b81aa1940b"
          }
        },
        "8a2a4f2d449f4c8a91dfc750dca17853": {
          "model_module": "@jupyter-widgets/controls",
          "model_name": "DescriptionStyleModel",
          "model_module_version": "1.5.0",
          "state": {
            "_view_name": "StyleView",
            "_model_name": "DescriptionStyleModel",
            "description_width": "",
            "_view_module": "@jupyter-widgets/base",
            "_model_module_version": "1.5.0",
            "_view_count": null,
            "_view_module_version": "1.2.0",
            "_model_module": "@jupyter-widgets/controls"
          }
        },
        "9640fb3219b44db98f0a4872bc182b92": {
          "model_module": "@jupyter-widgets/base",
          "model_name": "LayoutModel",
          "model_module_version": "1.2.0",
          "state": {
            "_view_name": "LayoutView",
            "grid_template_rows": null,
            "right": null,
            "justify_content": null,
            "_view_module": "@jupyter-widgets/base",
            "overflow": null,
            "_model_module_version": "1.2.0",
            "_view_count": null,
            "flex_flow": null,
            "width": null,
            "min_width": null,
            "border": null,
            "align_items": null,
            "bottom": null,
            "_model_module": "@jupyter-widgets/base",
            "top": null,
            "grid_column": null,
            "overflow_y": null,
            "overflow_x": null,
            "grid_auto_flow": null,
            "grid_area": null,
            "grid_template_columns": null,
            "flex": null,
            "_model_name": "LayoutModel",
            "justify_items": null,
            "grid_row": null,
            "max_height": null,
            "align_content": null,
            "visibility": null,
            "align_self": null,
            "height": null,
            "min_height": null,
            "padding": null,
            "grid_auto_rows": null,
            "grid_gap": null,
            "max_width": null,
            "order": null,
            "_view_module_version": "1.2.0",
            "grid_template_areas": null,
            "object_position": null,
            "object_fit": null,
            "grid_auto_columns": null,
            "margin": null,
            "display": null,
            "left": null
          }
        },
        "a22318ecaab643aba3d13a58f168a385": {
          "model_module": "@jupyter-widgets/controls",
          "model_name": "ProgressStyleModel",
          "model_module_version": "1.5.0",
          "state": {
            "_view_name": "StyleView",
            "_model_name": "ProgressStyleModel",
            "description_width": "",
            "_view_module": "@jupyter-widgets/base",
            "_model_module_version": "1.5.0",
            "_view_count": null,
            "_view_module_version": "1.2.0",
            "bar_color": null,
            "_model_module": "@jupyter-widgets/controls"
          }
        },
        "f3f9f3f4359a4127be5131fac601205e": {
          "model_module": "@jupyter-widgets/base",
          "model_name": "LayoutModel",
          "model_module_version": "1.2.0",
          "state": {
            "_view_name": "LayoutView",
            "grid_template_rows": null,
            "right": null,
            "justify_content": null,
            "_view_module": "@jupyter-widgets/base",
            "overflow": null,
            "_model_module_version": "1.2.0",
            "_view_count": null,
            "flex_flow": null,
            "width": null,
            "min_width": null,
            "border": null,
            "align_items": null,
            "bottom": null,
            "_model_module": "@jupyter-widgets/base",
            "top": null,
            "grid_column": null,
            "overflow_y": null,
            "overflow_x": null,
            "grid_auto_flow": null,
            "grid_area": null,
            "grid_template_columns": null,
            "flex": null,
            "_model_name": "LayoutModel",
            "justify_items": null,
            "grid_row": null,
            "max_height": null,
            "align_content": null,
            "visibility": null,
            "align_self": null,
            "height": null,
            "min_height": null,
            "padding": null,
            "grid_auto_rows": null,
            "grid_gap": null,
            "max_width": null,
            "order": null,
            "_view_module_version": "1.2.0",
            "grid_template_areas": null,
            "object_position": null,
            "object_fit": null,
            "grid_auto_columns": null,
            "margin": null,
            "display": null,
            "left": null
          }
        },
        "01e876dde74444c18a014b05a806d6ca": {
          "model_module": "@jupyter-widgets/controls",
          "model_name": "DescriptionStyleModel",
          "model_module_version": "1.5.0",
          "state": {
            "_view_name": "StyleView",
            "_model_name": "DescriptionStyleModel",
            "description_width": "",
            "_view_module": "@jupyter-widgets/base",
            "_model_module_version": "1.5.0",
            "_view_count": null,
            "_view_module_version": "1.2.0",
            "_model_module": "@jupyter-widgets/controls"
          }
        },
        "88d59158d68841708a5b16b81aa1940b": {
          "model_module": "@jupyter-widgets/base",
          "model_name": "LayoutModel",
          "model_module_version": "1.2.0",
          "state": {
            "_view_name": "LayoutView",
            "grid_template_rows": null,
            "right": null,
            "justify_content": null,
            "_view_module": "@jupyter-widgets/base",
            "overflow": null,
            "_model_module_version": "1.2.0",
            "_view_count": null,
            "flex_flow": null,
            "width": null,
            "min_width": null,
            "border": null,
            "align_items": null,
            "bottom": null,
            "_model_module": "@jupyter-widgets/base",
            "top": null,
            "grid_column": null,
            "overflow_y": null,
            "overflow_x": null,
            "grid_auto_flow": null,
            "grid_area": null,
            "grid_template_columns": null,
            "flex": null,
            "_model_name": "LayoutModel",
            "justify_items": null,
            "grid_row": null,
            "max_height": null,
            "align_content": null,
            "visibility": null,
            "align_self": null,
            "height": null,
            "min_height": null,
            "padding": null,
            "grid_auto_rows": null,
            "grid_gap": null,
            "max_width": null,
            "order": null,
            "_view_module_version": "1.2.0",
            "grid_template_areas": null,
            "object_position": null,
            "object_fit": null,
            "grid_auto_columns": null,
            "margin": null,
            "display": null,
            "left": null
          }
        }
      }
    }
  },
  "cells": [
    {
      "cell_type": "markdown",
      "metadata": {
        "id": "OHo6b3mjvDIa"
      },
      "source": [
        "### Installing and importing baseline dependencies"
      ]
    },
    {
      "cell_type": "code",
      "metadata": {
        "colab": {
          "base_uri": "https://localhost:8080/"
        },
        "id": "z-HTgOaTvZCe",
        "outputId": "d9678dcb-f85f-4f69-d1e9-c71d767a13de"
      },
      "source": [
        "!pip install sentencepiece"
      ],
      "execution_count": 1,
      "outputs": [
        {
          "output_type": "stream",
          "name": "stdout",
          "text": [
            "Requirement already satisfied: sentencepiece in /usr/local/lib/python3.7/dist-packages (0.1.96)\n"
          ]
        }
      ]
    },
    {
      "cell_type": "code",
      "metadata": {
        "colab": {
          "base_uri": "https://localhost:8080/"
        },
        "id": "3CgwML4Cuobc",
        "outputId": "56f834f8-33d5-4d07-f753-0c852f403047"
      },
      "source": [
        "!pip install transformers"
      ],
      "execution_count": 2,
      "outputs": [
        {
          "output_type": "stream",
          "name": "stdout",
          "text": [
            "Requirement already satisfied: transformers in /usr/local/lib/python3.7/dist-packages (4.12.5)\n",
            "Requirement already satisfied: requests in /usr/local/lib/python3.7/dist-packages (from transformers) (2.23.0)\n",
            "Requirement already satisfied: packaging>=20.0 in /usr/local/lib/python3.7/dist-packages (from transformers) (21.3)\n",
            "Requirement already satisfied: huggingface-hub<1.0,>=0.1.0 in /usr/local/lib/python3.7/dist-packages (from transformers) (0.1.2)\n",
            "Requirement already satisfied: importlib-metadata in /usr/local/lib/python3.7/dist-packages (from transformers) (4.8.2)\n",
            "Requirement already satisfied: pyyaml>=5.1 in /usr/local/lib/python3.7/dist-packages (from transformers) (6.0)\n",
            "Requirement already satisfied: tqdm>=4.27 in /usr/local/lib/python3.7/dist-packages (from transformers) (4.62.3)\n",
            "Requirement already satisfied: tokenizers<0.11,>=0.10.1 in /usr/local/lib/python3.7/dist-packages (from transformers) (0.10.3)\n",
            "Requirement already satisfied: sacremoses in /usr/local/lib/python3.7/dist-packages (from transformers) (0.0.46)\n",
            "Requirement already satisfied: regex!=2019.12.17 in /usr/local/lib/python3.7/dist-packages (from transformers) (2019.12.20)\n",
            "Requirement already satisfied: filelock in /usr/local/lib/python3.7/dist-packages (from transformers) (3.4.0)\n",
            "Requirement already satisfied: numpy>=1.17 in /usr/local/lib/python3.7/dist-packages (from transformers) (1.19.5)\n",
            "Requirement already satisfied: typing-extensions>=3.7.4.3 in /usr/local/lib/python3.7/dist-packages (from huggingface-hub<1.0,>=0.1.0->transformers) (3.10.0.2)\n",
            "Requirement already satisfied: pyparsing!=3.0.5,>=2.0.2 in /usr/local/lib/python3.7/dist-packages (from packaging>=20.0->transformers) (3.0.6)\n",
            "Requirement already satisfied: zipp>=0.5 in /usr/local/lib/python3.7/dist-packages (from importlib-metadata->transformers) (3.6.0)\n",
            "Requirement already satisfied: urllib3!=1.25.0,!=1.25.1,<1.26,>=1.21.1 in /usr/local/lib/python3.7/dist-packages (from requests->transformers) (1.24.3)\n",
            "Requirement already satisfied: chardet<4,>=3.0.2 in /usr/local/lib/python3.7/dist-packages (from requests->transformers) (3.0.4)\n",
            "Requirement already satisfied: idna<3,>=2.5 in /usr/local/lib/python3.7/dist-packages (from requests->transformers) (2.10)\n",
            "Requirement already satisfied: certifi>=2017.4.17 in /usr/local/lib/python3.7/dist-packages (from requests->transformers) (2021.10.8)\n",
            "Requirement already satisfied: joblib in /usr/local/lib/python3.7/dist-packages (from sacremoses->transformers) (1.1.0)\n",
            "Requirement already satisfied: six in /usr/local/lib/python3.7/dist-packages (from sacremoses->transformers) (1.15.0)\n",
            "Requirement already satisfied: click in /usr/local/lib/python3.7/dist-packages (from sacremoses->transformers) (7.1.2)\n"
          ]
        }
      ]
    },
    {
      "cell_type": "code",
      "metadata": {
        "id": "KRS73IcBuZ0j"
      },
      "source": [
        "from transformers import PegasusTokenizer, PegasusForConditionalGeneration"
      ],
      "execution_count": 3,
      "outputs": []
    },
    {
      "cell_type": "code",
      "metadata": {
        "id": "fqJbaZKNuwIm"
      },
      "source": [
        "from bs4 import BeautifulSoup\n",
        "import requests"
      ],
      "execution_count": 4,
      "outputs": []
    },
    {
      "cell_type": "markdown",
      "metadata": {
        "id": "7XCIj9R1vO2p"
      },
      "source": [
        "### Setting up summarization model"
      ]
    },
    {
      "cell_type": "code",
      "metadata": {
        "id": "734q1JpfvAsq"
      },
      "source": [
        "model_name = \"human-centered-summarization/financial-summarization-pegasus\"\n",
        "tokenizer = PegasusTokenizer.from_pretrained(model_name)\n",
        "model = PegasusForConditionalGeneration.from_pretrained(model_name)"
      ],
      "execution_count": 5,
      "outputs": []
    },
    {
      "cell_type": "markdown",
      "metadata": {
        "id": "5Und8rqkwDN6"
      },
      "source": [
        "### Summarizing single article\n"
      ]
    },
    {
      "cell_type": "code",
      "metadata": {
        "id": "jBqU3dAtwSMH"
      },
      "source": [
        "url = 'https://www.moneycontrol.com/news/business/cryptocurrency/uncertainty-looms-over-bitcoin-as-mt-gox-prepares-to-eject-one-final-time-7740091.html'\n",
        "r = requests.get(url)\n",
        "soup = BeautifulSoup(r.text, 'html.parser')\n",
        "paragraphs = soup.find(class_ = 'page_left_wrapper').find_all('p')"
      ],
      "execution_count": 6,
      "outputs": []
    },
    {
      "cell_type": "code",
      "metadata": {
        "colab": {
          "base_uri": "https://localhost:8080/"
        },
        "id": "btrvhYYCwSOp",
        "outputId": "42b52401-2560-495e-e0fd-2acb8b030294"
      },
      "source": [
        "print(paragraphs)"
      ],
      "execution_count": 7,
      "outputs": [
        {
          "output_type": "stream",
          "name": "stdout",
          "text": [
            "[<p><i><span style=\"font-weight: 400;\">February 2014. The formidable, Tokyo-based crypto exchange of Mt. Gox, founded in 2010 and arguably the world’s biggest cryptocurrency platform at that point, handling more than 70 percent of all bitcoin transactions across the globe, was hacked. More than 8,50,000 BTC were stolen by hackers, of which around 7,50,000 or 80% of bitcoins belonged to customers. </span></i></p>, <p><span style=\"font-weight: 400;\">And after 7 years of the exchange folding up, only some 2,00,000 BTC have been traced, and to an old wallet months after the company filed for bankruptcy. </span></p>, <p><span style=\"font-weight: 400;\">Despite a Japanese court tasked with the mammoth job of compensating the aggrieved investors, the chance of any substantial monetary recovery being made by these early bitcoin investors and creditors looked slim. But that looks set to change. </span></p>, <p></p>]\n"
          ]
        }
      ]
    },
    {
      "cell_type": "code",
      "metadata": {
        "id": "mDYuwi3jwSRf"
      },
      "source": [
        "text = [paragraph.text for paragraph in paragraphs]\n",
        "words = ' '.join(text).split(' ')[:300] #only grabbing first 400 words because summarization model have some limit\n",
        "ARTICLE = ' '.join(words)"
      ],
      "execution_count": 8,
      "outputs": []
    },
    {
      "cell_type": "code",
      "metadata": {
        "colab": {
          "base_uri": "https://localhost:8080/",
          "height": 119
        },
        "id": "5dbDkyqQwSUN",
        "outputId": "de16579d-3815-4e22-b840-777b20349904"
      },
      "source": [
        "ARTICLE"
      ],
      "execution_count": 9,
      "outputs": [
        {
          "output_type": "execute_result",
          "data": {
            "application/vnd.google.colaboratory.intrinsic+json": {
              "type": "string"
            },
            "text/plain": [
              "'February 2014. The formidable, Tokyo-based crypto exchange of Mt. Gox, founded in 2010 and arguably the world’s biggest cryptocurrency platform at that point, handling more than 70 percent of all bitcoin transactions across the globe, was hacked. More than 8,50,000 BTC were stolen by hackers, of which around 7,50,000 or 80% of bitcoins belonged to customers.\\xa0 And after 7 years of the exchange folding up, only some 2,00,000 BTC have been traced, and to\\xa0an old wallet months after the company filed for bankruptcy.\\xa0 Despite a Japanese court tasked with the mammoth job of compensating the aggrieved investors, the chance of\\xa0any substantial monetary recovery being made by these early bitcoin investors and creditors looked slim. But that\\xa0looks\\xa0set to change.\\xa0 '"
            ]
          },
          "metadata": {},
          "execution_count": 9
        }
      ]
    },
    {
      "cell_type": "code",
      "metadata": {
        "id": "1MCAqVrewSXr"
      },
      "source": [
        "input_ids = tokenizer.encode(ARTICLE, return_tensors='pt')\n",
        "output = model.generate(input_ids, max_length=55, num_beams=5, early_stopping=True)\n",
        "summary = tokenizer.decode(output[0], skip_special_tokens=True)"
      ],
      "execution_count": 10,
      "outputs": []
    },
    {
      "cell_type": "code",
      "metadata": {
        "colab": {
          "base_uri": "https://localhost:8080/",
          "height": 35
        },
        "id": "UdfwOd1ukxzu",
        "outputId": "57635308-0234-4d57-f7a4-674944e49137"
      },
      "source": [
        "summary"
      ],
      "execution_count": 11,
      "outputs": [
        {
          "output_type": "execute_result",
          "data": {
            "application/vnd.google.colaboratory.intrinsic+json": {
              "type": "string"
            },
            "text/plain": [
              "'Investors who lost money in the Mt. Gox hack are set to get compensation.'"
            ]
          },
          "metadata": {},
          "execution_count": 11
        }
      ]
    },
    {
      "cell_type": "markdown",
      "metadata": {
        "id": "vnbvCpOElMI1"
      },
      "source": [
        "### Building a News and Sentiment Pipeline\n",
        "\n"
      ]
    },
    {
      "cell_type": "code",
      "metadata": {
        "id": "HHvDHzbklF7A"
      },
      "source": [
        "monitored_tickers = ['ZOMATO', 'NYKAA']\n"
      ],
      "execution_count": 12,
      "outputs": []
    },
    {
      "cell_type": "markdown",
      "metadata": {
        "id": "NSAeZiyUlGbU"
      },
      "source": [
        "#### Searching for Stock news using Google and Economic Times\n",
        "\n",
        "\n"
      ]
    },
    {
      "cell_type": "code",
      "metadata": {
        "id": "rrVDAaLmk5v5"
      },
      "source": [
        "def search_for_stock_news_urls(ticker):\n",
        "    search_url = \"https://www.google.com/search?q=money+control+{}&tbm=nws\".format(ticker)\n",
        "    r = requests.get(search_url)\n",
        "    soup = BeautifulSoup(r.text, 'html.parser')\n",
        "    atags = soup.find_all('a')\n",
        "    hrefs = [link['href'] for link in atags]\n",
        "    return hrefs "
      ],
      "execution_count": 13,
      "outputs": []
    },
    {
      "cell_type": "code",
      "metadata": {
        "colab": {
          "base_uri": "https://localhost:8080/"
        },
        "id": "_QZPkChllN49",
        "outputId": "b69d26e7-5c63-425a-b80e-ad26b09f6bf2"
      },
      "source": [
        "raw_urls = {ticker:search_for_stock_news_urls(ticker) for ticker in monitored_tickers}\n",
        "raw_urls"
      ],
      "execution_count": 14,
      "outputs": [
        {
          "output_type": "execute_result",
          "data": {
            "text/plain": [
              "{'NYKAA': ['/?sa=X&ved=0ahUKEwi569GT4Kb0AhUNbc0KHXCmAOIQOwgC',\n",
              "  '/?output=search&ie=UTF-8&tbm=nws&sa=X&ved=0ahUKEwi569GT4Kb0AhUNbc0KHXCmAOIQPAgE',\n",
              "  '/search?q=money+control+NYKAA&tbm=nws&ie=UTF-8&gbv=1&sei=b9CYYfn3Co3atQbwzIKQDg',\n",
              "  '/search?q=money+control+NYKAA&ie=UTF-8&source=lnms&sa=X&ved=0ahUKEwi569GT4Kb0AhUNbc0KHXCmAOIQ_AUIBygA',\n",
              "  '/search?q=money+control+NYKAA&ie=UTF-8&tbm=shop&source=lnms&sa=X&ved=0ahUKEwi569GT4Kb0AhUNbc0KHXCmAOIQ_AUICSgC',\n",
              "  '/search?q=money+control+NYKAA&ie=UTF-8&tbm=isch&source=lnms&sa=X&ved=0ahUKEwi569GT4Kb0AhUNbc0KHXCmAOIQ_AUICigD',\n",
              "  'https://maps.google.com/maps?q=money+control+NYKAA&um=1&ie=UTF-8&sa=X&ved=0ahUKEwi569GT4Kb0AhUNbc0KHXCmAOIQ_AUICygE',\n",
              "  '/search?q=money+control+NYKAA&ie=UTF-8&tbm=vid&source=lnms&sa=X&ved=0ahUKEwi569GT4Kb0AhUNbc0KHXCmAOIQ_AUIDCgF',\n",
              "  '/search?q=money+control+NYKAA&ie=UTF-8&tbm=bks&source=lnms&sa=X&ved=0ahUKEwi569GT4Kb0AhUNbc0KHXCmAOIQ_AUIDSgG',\n",
              "  '/advanced_search',\n",
              "  '/search?q=money+control+NYKAA&ie=UTF-8&tbm=nws&source=lnt&tbs=qdr:h&sa=X&ved=0ahUKEwi569GT4Kb0AhUNbc0KHXCmAOIQpwUIDw',\n",
              "  '/search?q=money+control+NYKAA&ie=UTF-8&tbm=nws&source=lnt&tbs=qdr:d&sa=X&ved=0ahUKEwi569GT4Kb0AhUNbc0KHXCmAOIQpwUIEA',\n",
              "  '/search?q=money+control+NYKAA&ie=UTF-8&tbm=nws&source=lnt&tbs=qdr:w&sa=X&ved=0ahUKEwi569GT4Kb0AhUNbc0KHXCmAOIQpwUIEQ',\n",
              "  '/search?q=money+control+NYKAA&ie=UTF-8&tbm=nws&source=lnt&tbs=qdr:m&sa=X&ved=0ahUKEwi569GT4Kb0AhUNbc0KHXCmAOIQpwUIEg',\n",
              "  '/search?q=money+control+NYKAA&ie=UTF-8&tbm=nws&source=lnt&tbs=qdr:y&sa=X&ved=0ahUKEwi569GT4Kb0AhUNbc0KHXCmAOIQpwUIEw',\n",
              "  '/search?q=money+control+NYKAA&ie=UTF-8&tbm=nws&source=lnt&tbs=ar:1&sa=X&ved=0ahUKEwi569GT4Kb0AhUNbc0KHXCmAOIQpwUIFA',\n",
              "  '/search?q=money+control+NYKAA&ie=UTF-8&tbm=nws&source=lnt&tbs=sbd:1&sa=X&ved=0ahUKEwi569GT4Kb0AhUNbc0KHXCmAOIQpwUIFg',\n",
              "  '/url?q=https://www.moneycontrol.com/news/business/ipo/nykaa-makes-a-stellar-debut-stock-lists-at-rs-2018-with-79-premium-7698501.html&sa=U&ved=2ahUKEwi569GT4Kb0AhUNbc0KHXCmAOIQxfQBegQIARAB&usg=AOvVaw2ziRmLZ4bIscZfqB3-CjD-',\n",
              "  '/url?q=https://www.moneycontrol.com/news/business/ipo/nykaa-makes-a-stellar-debut-stock-lists-at-rs-2018-with-79-premium-7698501.html&sa=U&ved=2ahUKEwi569GT4Kb0AhUNbc0KHXCmAOIQ0Y8FegQIARAC&usg=AOvVaw1Wa9HmMhpCixew6eJSpsZh',\n",
              "  '/url?q=https://www.moneycontrol.com/news/business/companies/nykaa-paytm-and-long-term-investing-7719421.html&sa=U&ved=2ahUKEwi569GT4Kb0AhUNbc0KHXCmAOIQxfQBegQICRAB&usg=AOvVaw0G0SPjET2qaDHP6wC8qRCR',\n",
              "  '/url?q=https://www.moneycontrol.com/news/business/companies/nykaa-paytm-and-long-term-investing-7719421.html&sa=U&ved=2ahUKEwi569GT4Kb0AhUNbc0KHXCmAOIQ0Y8FegQICRAC&usg=AOvVaw3e3QqcgJAcUnBLsrbhwJ1b',\n",
              "  '/url?q=https://www.moneycontrol.com/news/business/earnings/fsn-e-conykaa-standalone-september-2021-net-sales-at-rs-49-39-crore-up-21-6-y-o-y-7738801.html&sa=U&ved=2ahUKEwi569GT4Kb0AhUNbc0KHXCmAOIQxfQBegQIBBAB&usg=AOvVaw2oilDKYz6rmVof9Sdxs_5g',\n",
              "  '/url?q=https://www.moneycontrol.com/news/business/earnings/fsn-e-conykaa-standalone-september-2021-net-sales-at-rs-49-39-crore-up-21-6-y-o-y-7738801.html&sa=U&ved=2ahUKEwi569GT4Kb0AhUNbc0KHXCmAOIQ0Y8FegQIBBAC&usg=AOvVaw1oGdVywnorM2Xq9dsC2ooo',\n",
              "  '/url?q=https://www.moneycontrol.com/news/business/ipo/nykaa-ipo-subscribed-5-71-times-on-final-day-qib-portion-booked-4-73-times-7658921.html&sa=U&ved=2ahUKEwi569GT4Kb0AhUNbc0KHXCmAOIQxfQBegQIAhAB&usg=AOvVaw16cx_1GyxJGlkQoYjXdEj8',\n",
              "  '/url?q=https://www.moneycontrol.com/news/business/ipo/nykaa-ipo-subscribed-5-71-times-on-final-day-qib-portion-booked-4-73-times-7658921.html&sa=U&ved=2ahUKEwi569GT4Kb0AhUNbc0KHXCmAOIQ0Y8FegQIAhAC&usg=AOvVaw0xGsVCWOXN1bEj08ObxKzZ',\n",
              "  '/url?q=https://www.moneycontrol.com/news/business/ipo/nykaa-ipo-day-2-experts-give-a-thumbs-up-to-the-public-issue-7642851.html&sa=U&ved=2ahUKEwi569GT4Kb0AhUNbc0KHXCmAOIQxfQBegQIABAB&usg=AOvVaw3oWSohjg4tS-zevESbhb7e',\n",
              "  '/url?q=https://www.moneycontrol.com/news/business/ipo/nykaa-ipo-day-2-experts-give-a-thumbs-up-to-the-public-issue-7642851.html&sa=U&ved=2ahUKEwi569GT4Kb0AhUNbc0KHXCmAOIQ0Y8FegQIABAC&usg=AOvVaw0K3gZElL4ft-JNhoH6_HBh',\n",
              "  '/url?q=https://www.moneycontrol.com/news/business/ipo/nykaa-ipo-opens-on-october-28-10-key-things-to-know-before-subscribing-to-the-issue-7622901.html&sa=U&ved=2ahUKEwi569GT4Kb0AhUNbc0KHXCmAOIQxfQBegQIAxAB&usg=AOvVaw1iW0-oRYvEyldEitJ2D-uh',\n",
              "  '/url?q=https://www.moneycontrol.com/news/business/ipo/nykaa-ipo-opens-on-october-28-10-key-things-to-know-before-subscribing-to-the-issue-7622901.html&sa=U&ved=2ahUKEwi569GT4Kb0AhUNbc0KHXCmAOIQ0Y8FegQIAxAC&usg=AOvVaw0JXGCMZygFNKdWA4XKzT1L',\n",
              "  '/url?q=https://www.moneycontrol.com/news/business/earnings/nykaa-q2-result-pat-comes-in-at-rs-1-2-crore-revenue-surges-47-yoy-7718181.html&sa=U&ved=2ahUKEwi569GT4Kb0AhUNbc0KHXCmAOIQxfQBegQIBxAB&usg=AOvVaw10SHTDde6PxBhsCcbQyTVf',\n",
              "  '/url?q=https://www.moneycontrol.com/news/business/earnings/nykaa-q2-result-pat-comes-in-at-rs-1-2-crore-revenue-surges-47-yoy-7718181.html&sa=U&ved=2ahUKEwi569GT4Kb0AhUNbc0KHXCmAOIQ0Y8FegQIBxAC&usg=AOvVaw0-gio4EP-8esSnm-REiwOq',\n",
              "  '/url?q=https://www.moneycontrol.com/news/business/ipo/nykaa-ipo-opens-issue-subscribed-10-so-far-on-first-day-of-bidding-7639861.html&sa=U&ved=2ahUKEwi569GT4Kb0AhUNbc0KHXCmAOIQxfQBegQIBhAB&usg=AOvVaw2e3vWcPM976KFRRp1vp4f1',\n",
              "  '/url?q=https://www.moneycontrol.com/news/business/ipo/nykaa-ipo-opens-issue-subscribed-10-so-far-on-first-day-of-bidding-7639861.html&sa=U&ved=2ahUKEwi569GT4Kb0AhUNbc0KHXCmAOIQ0Y8FegQIBhAC&usg=AOvVaw3AgSsjouaEqRjlBATe1U_M',\n",
              "  '/url?q=https://www.moneycontrol.com/news/business/ipo/nykaa-ipo-share-allotment-to-be-finalised-today-also-check-listing-date-grey-market-premium-here-7689721.html&sa=U&ved=2ahUKEwi569GT4Kb0AhUNbc0KHXCmAOIQxfQBegQIBRAB&usg=AOvVaw1Va-2-Lu5FyhiK1am9LNkt',\n",
              "  '/url?q=https://www.moneycontrol.com/news/business/ipo/nykaa-ipo-share-allotment-to-be-finalised-today-also-check-listing-date-grey-market-premium-here-7689721.html&sa=U&ved=2ahUKEwi569GT4Kb0AhUNbc0KHXCmAOIQ0Y8FegQIBRAC&usg=AOvVaw2quJL0rRNpYxufqq9IAFD1',\n",
              "  '/url?q=https://www.moneycontrol.com/news/business/ipo/nykaa-ipo-to-open-on-october-28-price-band-at-rs-1085-1125-per-share-7613081.html&sa=U&ved=2ahUKEwi569GT4Kb0AhUNbc0KHXCmAOIQxfQBegQICBAB&usg=AOvVaw3aVFunrayt7pjRzNmUzY5T',\n",
              "  '/url?q=https://www.moneycontrol.com/news/business/ipo/nykaa-ipo-to-open-on-october-28-price-band-at-rs-1085-1125-per-share-7613081.html&sa=U&ved=2ahUKEwi569GT4Kb0AhUNbc0KHXCmAOIQ0Y8FegQICBAC&usg=AOvVaw2Vm_4lixrmBWITTWFrsUox',\n",
              "  '/search?q=money+control+NYKAA&ie=UTF-8&tbm=nws&ei=b9CYYfn3Co3atQbwzIKQDg&start=10&sa=N',\n",
              "  '/url?q=https://support.google.com/websearch%3Fp%3Dws_settings_location%26hl%3Den&sa=U&ved=0ahUKEwi569GT4Kb0AhUNbc0KHXCmAOIQty4IVQ&usg=AOvVaw04xMfTeDI5qRf3Vvg3RPgz',\n",
              "  '/url?q=https://accounts.google.com/ServiceLogin%3Fcontinue%3Dhttps://www.google.com/search%253Fq%253Dmoney%252Bcontrol%252BNYKAA%2526tbm%253Dnws%26hl%3Den&sa=U&ved=0ahUKEwi569GT4Kb0AhUNbc0KHXCmAOIQxs8CCFY&usg=AOvVaw1axPN-Sxw-8jF7npft1gkB',\n",
              "  'https://www.google.com/preferences?hl=en&fg=1&sa=X&ved=0ahUKEwi569GT4Kb0AhUNbc0KHXCmAOIQ5fUCCFc',\n",
              "  'https://policies.google.com/privacy?hl=en&fg=1',\n",
              "  'https://policies.google.com/terms?hl=en&fg=1'],\n",
              " 'ZOMATO': ['/?sa=X&ved=0ahUKEwj24L6T4Kb0AhWCQc0KHVoxCxsQOwgC',\n",
              "  '/?output=search&ie=UTF-8&tbm=nws&sa=X&ved=0ahUKEwj24L6T4Kb0AhWCQc0KHVoxCxsQPAgE',\n",
              "  '/search?q=money+control+ZOMATO&tbm=nws&ie=UTF-8&gbv=1&sei=btCYYfbxNIKDtQba4qzYAQ',\n",
              "  '/search?q=money+control+ZOMATO&ie=UTF-8&source=lnms&sa=X&ved=0ahUKEwj24L6T4Kb0AhWCQc0KHVoxCxsQ_AUIBygA',\n",
              "  '/search?q=money+control+ZOMATO&ie=UTF-8&tbm=shop&source=lnms&sa=X&ved=0ahUKEwj24L6T4Kb0AhWCQc0KHVoxCxsQ_AUICSgC',\n",
              "  '/search?q=money+control+ZOMATO&ie=UTF-8&tbm=isch&source=lnms&sa=X&ved=0ahUKEwj24L6T4Kb0AhWCQc0KHVoxCxsQ_AUICigD',\n",
              "  'https://maps.google.com/maps?q=money+control+ZOMATO&um=1&ie=UTF-8&sa=X&ved=0ahUKEwj24L6T4Kb0AhWCQc0KHVoxCxsQ_AUICygE',\n",
              "  '/search?q=money+control+ZOMATO&ie=UTF-8&tbm=vid&source=lnms&sa=X&ved=0ahUKEwj24L6T4Kb0AhWCQc0KHVoxCxsQ_AUIDCgF',\n",
              "  '/search?q=money+control+ZOMATO&ie=UTF-8&tbm=bks&source=lnms&sa=X&ved=0ahUKEwj24L6T4Kb0AhWCQc0KHVoxCxsQ_AUIDSgG',\n",
              "  '/advanced_search',\n",
              "  '/search?q=money+control+ZOMATO&ie=UTF-8&tbm=nws&source=lnt&tbs=qdr:h&sa=X&ved=0ahUKEwj24L6T4Kb0AhWCQc0KHVoxCxsQpwUIDw',\n",
              "  '/search?q=money+control+ZOMATO&ie=UTF-8&tbm=nws&source=lnt&tbs=qdr:d&sa=X&ved=0ahUKEwj24L6T4Kb0AhWCQc0KHVoxCxsQpwUIEA',\n",
              "  '/search?q=money+control+ZOMATO&ie=UTF-8&tbm=nws&source=lnt&tbs=qdr:w&sa=X&ved=0ahUKEwj24L6T4Kb0AhWCQc0KHVoxCxsQpwUIEQ',\n",
              "  '/search?q=money+control+ZOMATO&ie=UTF-8&tbm=nws&source=lnt&tbs=qdr:m&sa=X&ved=0ahUKEwj24L6T4Kb0AhWCQc0KHVoxCxsQpwUIEg',\n",
              "  '/search?q=money+control+ZOMATO&ie=UTF-8&tbm=nws&source=lnt&tbs=qdr:y&sa=X&ved=0ahUKEwj24L6T4Kb0AhWCQc0KHVoxCxsQpwUIEw',\n",
              "  '/search?q=money+control+ZOMATO&ie=UTF-8&tbm=nws&source=lnt&tbs=ar:1&sa=X&ved=0ahUKEwj24L6T4Kb0AhWCQc0KHVoxCxsQpwUIFA',\n",
              "  '/search?q=money+control+ZOMATO&ie=UTF-8&tbm=nws&source=lnt&tbs=sbd:1&sa=X&ved=0ahUKEwj24L6T4Kb0AhWCQc0KHVoxCxsQpwUIFg',\n",
              "  '/url?q=https://www.moneycontrol.com/news/photos/business/stocks/buzzing-stocks-paytm-one-97-communications-sapphire-foods-onelife-capital-advisors-and-other-stocks-in-news-today-7733161.html&sa=U&ved=2ahUKEwj24L6T4Kb0AhWCQc0KHVoxCxsQxfQBegQIABAB&usg=AOvVaw1xo2ejloyK-RITUHLUfpkt',\n",
              "  '/url?q=https://www.moneycontrol.com/news/photos/business/stocks/buzzing-stocks-paytm-one-97-communications-sapphire-foods-onelife-capital-advisors-and-other-stocks-in-news-today-7733161.html&sa=U&ved=2ahUKEwj24L6T4Kb0AhWCQc0KHVoxCxsQ0Y8FegQIABAC&usg=AOvVaw1H8tbcKkN6mmWaO38iC0f8',\n",
              "  '/url?q=https://www.moneycontrol.com/news/business/stocks/buy-zomato-target-of-rs-183-geojit-7735931.html&sa=U&ved=2ahUKEwj24L6T4Kb0AhWCQc0KHVoxCxsQxfQBegQICRAB&usg=AOvVaw08A30YagxnN0d7Sylsi934',\n",
              "  '/url?q=https://www.moneycontrol.com/news/business/stocks/buy-zomato-target-of-rs-183-geojit-7735931.html&sa=U&ved=2ahUKEwj24L6T4Kb0AhWCQc0KHVoxCxsQ0Y8FegQICRAC&usg=AOvVaw20B-9CLEB28Yqy7-aVpgil',\n",
              "  '/url?q=https://www.moneycontrol.com/news/business/companies/info-edge-to-use-profits-not-risk-capital-like-zomato-to-invest-founder-sanjeev-bikhchandani-7724651.html&sa=U&ved=2ahUKEwj24L6T4Kb0AhWCQc0KHVoxCxsQxfQBegQIBxAB&usg=AOvVaw2roxwh2St5CVoyA9HienoG',\n",
              "  '/url?q=https://www.moneycontrol.com/news/business/companies/info-edge-to-use-profits-not-risk-capital-like-zomato-to-invest-founder-sanjeev-bikhchandani-7724651.html&sa=U&ved=2ahUKEwj24L6T4Kb0AhWCQc0KHVoxCxsQ0Y8FegQIBxAC&usg=AOvVaw0M56Y4HTQdgwg-cBsGeZaV',\n",
              "  '/url?q=https://www.moneycontrol.com/news/business/companies/exclusive-zomato-wants-to-do-an-info-edge-scouts-for-investments-in-startups-7698731.html&sa=U&ved=2ahUKEwj24L6T4Kb0AhWCQc0KHVoxCxsQxfQBegQICBAB&usg=AOvVaw0V8RPEo9OV9o8sdShXMrmi',\n",
              "  '/url?q=https://www.moneycontrol.com/news/business/companies/exclusive-zomato-wants-to-do-an-info-edge-scouts-for-investments-in-startups-7698731.html&sa=U&ved=2ahUKEwj24L6T4Kb0AhWCQc0KHVoxCxsQ0Y8FegQICBAC&usg=AOvVaw1kc3FI30IMXqRGirqFUrtE',\n",
              "  '/url?q=https://www.moneycontrol.com/news/business/markets/paytm-enters-rs-1-lakh-crore-mcap-club-despite-a-debut-fiasco-7740851.html&sa=U&ved=2ahUKEwj24L6T4Kb0AhWCQc0KHVoxCxsQxfQBegQIBhAB&usg=AOvVaw2T4WlPJcF1Gj_DJF3TJ1pp',\n",
              "  '/url?q=https://www.moneycontrol.com/news/business/markets/paytm-enters-rs-1-lakh-crore-mcap-club-despite-a-debut-fiasco-7740851.html&sa=U&ved=2ahUKEwj24L6T4Kb0AhWCQc0KHVoxCxsQ0Y8FegQIBhAC&usg=AOvVaw198mwbDpIsLe0EQ5V6LRxS',\n",
              "  '/url?q=https://www.moneycontrol.com/news/business/stocks/what-should-investors-do-with-zomato-post-q2-earnings-buy-sell-or-hold-7704901.html&sa=U&ved=2ahUKEwj24L6T4Kb0AhWCQc0KHVoxCxsQxfQBegQIAhAB&usg=AOvVaw2sXrvNpi0h68L4Ss4Eu4_P',\n",
              "  '/url?q=https://www.moneycontrol.com/news/business/stocks/what-should-investors-do-with-zomato-post-q2-earnings-buy-sell-or-hold-7704901.html&sa=U&ved=2ahUKEwj24L6T4Kb0AhWCQc0KHVoxCxsQ0Y8FegQIAhAC&usg=AOvVaw1CBaNMXHboGBm71QxEyBDe',\n",
              "  '/url?q=https://www.moneycontrol.com/news/business/startup/magicpin-bags-60-million-in-its-series-d-round-led-by-zomato-7704121.html&sa=U&ved=2ahUKEwj24L6T4Kb0AhWCQc0KHVoxCxsQxfQBegQIAxAB&usg=AOvVaw3dCqbgVL95-HdHmGYzh-9w',\n",
              "  '/url?q=https://www.moneycontrol.com/news/business/startup/magicpin-bags-60-million-in-its-series-d-round-led-by-zomato-7704121.html&sa=U&ved=2ahUKEwj24L6T4Kb0AhWCQc0KHVoxCxsQ0Y8FegQIAxAC&usg=AOvVaw32aDwX9tRLZTlgPtqqjaEm',\n",
              "  '/url?q=https://www.moneycontrol.com/news/business/startup/exclusive-zomato-in-advance-talks-to-invest-in-shiprocket-in-200-million-round-7687471.html&sa=U&ved=2ahUKEwj24L6T4Kb0AhWCQc0KHVoxCxsQxfQBegQIBRAB&usg=AOvVaw3HWJ9bZlykFvrE3mlIovg0',\n",
              "  '/url?q=https://www.moneycontrol.com/news/business/startup/exclusive-zomato-in-advance-talks-to-invest-in-shiprocket-in-200-million-round-7687471.html&sa=U&ved=2ahUKEwj24L6T4Kb0AhWCQc0KHVoxCxsQ0Y8FegQIBRAC&usg=AOvVaw1LjygMhIZB7ZP343H_HA5z',\n",
              "  '/url?q=https://www.moneycontrol.com/news/trends/paytm-ipo-on-paytms-big-ipo-day-zomato-bigbasket-send-dahi-shakkar-basket-full-of-luck-7690011.html&sa=U&ved=2ahUKEwj24L6T4Kb0AhWCQc0KHVoxCxsQxfQBegQIARAB&usg=AOvVaw3-XNzHubRDDc7anJQcvdHp',\n",
              "  '/url?q=https://www.moneycontrol.com/news/trends/paytm-ipo-on-paytms-big-ipo-day-zomato-bigbasket-send-dahi-shakkar-basket-full-of-luck-7690011.html&sa=U&ved=2ahUKEwj24L6T4Kb0AhWCQc0KHVoxCxsQ0Y8FegQIARAC&usg=AOvVaw1HgTZwgBTyAkywOjp2NXnz',\n",
              "  '/url?q=https://www.moneycontrol.com/news/business/markets/msci-adds-zomato-irctc-mindtree-4-others-to-india-index-ipca-labs-rec-to-be-deleted-7711561.html&sa=U&ved=2ahUKEwj24L6T4Kb0AhWCQc0KHVoxCxsQxfQBegQIBBAB&usg=AOvVaw0s_sOX9l5sSYkSK8LYVLEm',\n",
              "  '/url?q=https://www.moneycontrol.com/news/business/markets/msci-adds-zomato-irctc-mindtree-4-others-to-india-index-ipca-labs-rec-to-be-deleted-7711561.html&sa=U&ved=2ahUKEwj24L6T4Kb0AhWCQc0KHVoxCxsQ0Y8FegQIBBAC&usg=AOvVaw0E9aV9a4l2diHbyAE67uwc',\n",
              "  '/search?q=money+control+ZOMATO&ie=UTF-8&tbm=nws&ei=btCYYfbxNIKDtQba4qzYAQ&start=10&sa=N',\n",
              "  '/url?q=https://support.google.com/websearch%3Fp%3Dws_settings_location%26hl%3Den&sa=U&ved=0ahUKEwj24L6T4Kb0AhWCQc0KHVoxCxsQty4IVQ&usg=AOvVaw1-kButI3_csWLByjtV-G3C',\n",
              "  '/url?q=https://accounts.google.com/ServiceLogin%3Fcontinue%3Dhttps://www.google.com/search%253Fq%253Dmoney%252Bcontrol%252BZOMATO%2526tbm%253Dnws%26hl%3Den&sa=U&ved=0ahUKEwj24L6T4Kb0AhWCQc0KHVoxCxsQxs8CCFY&usg=AOvVaw3oO4B7yMsuasX1o9yXKNyq',\n",
              "  'https://www.google.com/preferences?hl=en&fg=1&sa=X&ved=0ahUKEwj24L6T4Kb0AhWCQc0KHVoxCxsQ5fUCCFc',\n",
              "  'https://policies.google.com/privacy?hl=en&fg=1',\n",
              "  'https://policies.google.com/terms?hl=en&fg=1']}"
            ]
          },
          "metadata": {},
          "execution_count": 14
        }
      ]
    },
    {
      "cell_type": "code",
      "metadata": {
        "colab": {
          "base_uri": "https://localhost:8080/"
        },
        "id": "OX0Y58i6lN7L",
        "outputId": "be67d786-c303-4aa7-a3bc-0ade4a7009bd"
      },
      "source": [
        "raw_urls['ZOMATO']"
      ],
      "execution_count": 15,
      "outputs": [
        {
          "output_type": "execute_result",
          "data": {
            "text/plain": [
              "['/?sa=X&ved=0ahUKEwj24L6T4Kb0AhWCQc0KHVoxCxsQOwgC',\n",
              " '/?output=search&ie=UTF-8&tbm=nws&sa=X&ved=0ahUKEwj24L6T4Kb0AhWCQc0KHVoxCxsQPAgE',\n",
              " '/search?q=money+control+ZOMATO&tbm=nws&ie=UTF-8&gbv=1&sei=btCYYfbxNIKDtQba4qzYAQ',\n",
              " '/search?q=money+control+ZOMATO&ie=UTF-8&source=lnms&sa=X&ved=0ahUKEwj24L6T4Kb0AhWCQc0KHVoxCxsQ_AUIBygA',\n",
              " '/search?q=money+control+ZOMATO&ie=UTF-8&tbm=shop&source=lnms&sa=X&ved=0ahUKEwj24L6T4Kb0AhWCQc0KHVoxCxsQ_AUICSgC',\n",
              " '/search?q=money+control+ZOMATO&ie=UTF-8&tbm=isch&source=lnms&sa=X&ved=0ahUKEwj24L6T4Kb0AhWCQc0KHVoxCxsQ_AUICigD',\n",
              " 'https://maps.google.com/maps?q=money+control+ZOMATO&um=1&ie=UTF-8&sa=X&ved=0ahUKEwj24L6T4Kb0AhWCQc0KHVoxCxsQ_AUICygE',\n",
              " '/search?q=money+control+ZOMATO&ie=UTF-8&tbm=vid&source=lnms&sa=X&ved=0ahUKEwj24L6T4Kb0AhWCQc0KHVoxCxsQ_AUIDCgF',\n",
              " '/search?q=money+control+ZOMATO&ie=UTF-8&tbm=bks&source=lnms&sa=X&ved=0ahUKEwj24L6T4Kb0AhWCQc0KHVoxCxsQ_AUIDSgG',\n",
              " '/advanced_search',\n",
              " '/search?q=money+control+ZOMATO&ie=UTF-8&tbm=nws&source=lnt&tbs=qdr:h&sa=X&ved=0ahUKEwj24L6T4Kb0AhWCQc0KHVoxCxsQpwUIDw',\n",
              " '/search?q=money+control+ZOMATO&ie=UTF-8&tbm=nws&source=lnt&tbs=qdr:d&sa=X&ved=0ahUKEwj24L6T4Kb0AhWCQc0KHVoxCxsQpwUIEA',\n",
              " '/search?q=money+control+ZOMATO&ie=UTF-8&tbm=nws&source=lnt&tbs=qdr:w&sa=X&ved=0ahUKEwj24L6T4Kb0AhWCQc0KHVoxCxsQpwUIEQ',\n",
              " '/search?q=money+control+ZOMATO&ie=UTF-8&tbm=nws&source=lnt&tbs=qdr:m&sa=X&ved=0ahUKEwj24L6T4Kb0AhWCQc0KHVoxCxsQpwUIEg',\n",
              " '/search?q=money+control+ZOMATO&ie=UTF-8&tbm=nws&source=lnt&tbs=qdr:y&sa=X&ved=0ahUKEwj24L6T4Kb0AhWCQc0KHVoxCxsQpwUIEw',\n",
              " '/search?q=money+control+ZOMATO&ie=UTF-8&tbm=nws&source=lnt&tbs=ar:1&sa=X&ved=0ahUKEwj24L6T4Kb0AhWCQc0KHVoxCxsQpwUIFA',\n",
              " '/search?q=money+control+ZOMATO&ie=UTF-8&tbm=nws&source=lnt&tbs=sbd:1&sa=X&ved=0ahUKEwj24L6T4Kb0AhWCQc0KHVoxCxsQpwUIFg',\n",
              " '/url?q=https://www.moneycontrol.com/news/photos/business/stocks/buzzing-stocks-paytm-one-97-communications-sapphire-foods-onelife-capital-advisors-and-other-stocks-in-news-today-7733161.html&sa=U&ved=2ahUKEwj24L6T4Kb0AhWCQc0KHVoxCxsQxfQBegQIABAB&usg=AOvVaw1xo2ejloyK-RITUHLUfpkt',\n",
              " '/url?q=https://www.moneycontrol.com/news/photos/business/stocks/buzzing-stocks-paytm-one-97-communications-sapphire-foods-onelife-capital-advisors-and-other-stocks-in-news-today-7733161.html&sa=U&ved=2ahUKEwj24L6T4Kb0AhWCQc0KHVoxCxsQ0Y8FegQIABAC&usg=AOvVaw1H8tbcKkN6mmWaO38iC0f8',\n",
              " '/url?q=https://www.moneycontrol.com/news/business/stocks/buy-zomato-target-of-rs-183-geojit-7735931.html&sa=U&ved=2ahUKEwj24L6T4Kb0AhWCQc0KHVoxCxsQxfQBegQICRAB&usg=AOvVaw08A30YagxnN0d7Sylsi934',\n",
              " '/url?q=https://www.moneycontrol.com/news/business/stocks/buy-zomato-target-of-rs-183-geojit-7735931.html&sa=U&ved=2ahUKEwj24L6T4Kb0AhWCQc0KHVoxCxsQ0Y8FegQICRAC&usg=AOvVaw20B-9CLEB28Yqy7-aVpgil',\n",
              " '/url?q=https://www.moneycontrol.com/news/business/companies/info-edge-to-use-profits-not-risk-capital-like-zomato-to-invest-founder-sanjeev-bikhchandani-7724651.html&sa=U&ved=2ahUKEwj24L6T4Kb0AhWCQc0KHVoxCxsQxfQBegQIBxAB&usg=AOvVaw2roxwh2St5CVoyA9HienoG',\n",
              " '/url?q=https://www.moneycontrol.com/news/business/companies/info-edge-to-use-profits-not-risk-capital-like-zomato-to-invest-founder-sanjeev-bikhchandani-7724651.html&sa=U&ved=2ahUKEwj24L6T4Kb0AhWCQc0KHVoxCxsQ0Y8FegQIBxAC&usg=AOvVaw0M56Y4HTQdgwg-cBsGeZaV',\n",
              " '/url?q=https://www.moneycontrol.com/news/business/companies/exclusive-zomato-wants-to-do-an-info-edge-scouts-for-investments-in-startups-7698731.html&sa=U&ved=2ahUKEwj24L6T4Kb0AhWCQc0KHVoxCxsQxfQBegQICBAB&usg=AOvVaw0V8RPEo9OV9o8sdShXMrmi',\n",
              " '/url?q=https://www.moneycontrol.com/news/business/companies/exclusive-zomato-wants-to-do-an-info-edge-scouts-for-investments-in-startups-7698731.html&sa=U&ved=2ahUKEwj24L6T4Kb0AhWCQc0KHVoxCxsQ0Y8FegQICBAC&usg=AOvVaw1kc3FI30IMXqRGirqFUrtE',\n",
              " '/url?q=https://www.moneycontrol.com/news/business/markets/paytm-enters-rs-1-lakh-crore-mcap-club-despite-a-debut-fiasco-7740851.html&sa=U&ved=2ahUKEwj24L6T4Kb0AhWCQc0KHVoxCxsQxfQBegQIBhAB&usg=AOvVaw2T4WlPJcF1Gj_DJF3TJ1pp',\n",
              " '/url?q=https://www.moneycontrol.com/news/business/markets/paytm-enters-rs-1-lakh-crore-mcap-club-despite-a-debut-fiasco-7740851.html&sa=U&ved=2ahUKEwj24L6T4Kb0AhWCQc0KHVoxCxsQ0Y8FegQIBhAC&usg=AOvVaw198mwbDpIsLe0EQ5V6LRxS',\n",
              " '/url?q=https://www.moneycontrol.com/news/business/stocks/what-should-investors-do-with-zomato-post-q2-earnings-buy-sell-or-hold-7704901.html&sa=U&ved=2ahUKEwj24L6T4Kb0AhWCQc0KHVoxCxsQxfQBegQIAhAB&usg=AOvVaw2sXrvNpi0h68L4Ss4Eu4_P',\n",
              " '/url?q=https://www.moneycontrol.com/news/business/stocks/what-should-investors-do-with-zomato-post-q2-earnings-buy-sell-or-hold-7704901.html&sa=U&ved=2ahUKEwj24L6T4Kb0AhWCQc0KHVoxCxsQ0Y8FegQIAhAC&usg=AOvVaw1CBaNMXHboGBm71QxEyBDe',\n",
              " '/url?q=https://www.moneycontrol.com/news/business/startup/magicpin-bags-60-million-in-its-series-d-round-led-by-zomato-7704121.html&sa=U&ved=2ahUKEwj24L6T4Kb0AhWCQc0KHVoxCxsQxfQBegQIAxAB&usg=AOvVaw3dCqbgVL95-HdHmGYzh-9w',\n",
              " '/url?q=https://www.moneycontrol.com/news/business/startup/magicpin-bags-60-million-in-its-series-d-round-led-by-zomato-7704121.html&sa=U&ved=2ahUKEwj24L6T4Kb0AhWCQc0KHVoxCxsQ0Y8FegQIAxAC&usg=AOvVaw32aDwX9tRLZTlgPtqqjaEm',\n",
              " '/url?q=https://www.moneycontrol.com/news/business/startup/exclusive-zomato-in-advance-talks-to-invest-in-shiprocket-in-200-million-round-7687471.html&sa=U&ved=2ahUKEwj24L6T4Kb0AhWCQc0KHVoxCxsQxfQBegQIBRAB&usg=AOvVaw3HWJ9bZlykFvrE3mlIovg0',\n",
              " '/url?q=https://www.moneycontrol.com/news/business/startup/exclusive-zomato-in-advance-talks-to-invest-in-shiprocket-in-200-million-round-7687471.html&sa=U&ved=2ahUKEwj24L6T4Kb0AhWCQc0KHVoxCxsQ0Y8FegQIBRAC&usg=AOvVaw1LjygMhIZB7ZP343H_HA5z',\n",
              " '/url?q=https://www.moneycontrol.com/news/trends/paytm-ipo-on-paytms-big-ipo-day-zomato-bigbasket-send-dahi-shakkar-basket-full-of-luck-7690011.html&sa=U&ved=2ahUKEwj24L6T4Kb0AhWCQc0KHVoxCxsQxfQBegQIARAB&usg=AOvVaw3-XNzHubRDDc7anJQcvdHp',\n",
              " '/url?q=https://www.moneycontrol.com/news/trends/paytm-ipo-on-paytms-big-ipo-day-zomato-bigbasket-send-dahi-shakkar-basket-full-of-luck-7690011.html&sa=U&ved=2ahUKEwj24L6T4Kb0AhWCQc0KHVoxCxsQ0Y8FegQIARAC&usg=AOvVaw1HgTZwgBTyAkywOjp2NXnz',\n",
              " '/url?q=https://www.moneycontrol.com/news/business/markets/msci-adds-zomato-irctc-mindtree-4-others-to-india-index-ipca-labs-rec-to-be-deleted-7711561.html&sa=U&ved=2ahUKEwj24L6T4Kb0AhWCQc0KHVoxCxsQxfQBegQIBBAB&usg=AOvVaw0s_sOX9l5sSYkSK8LYVLEm',\n",
              " '/url?q=https://www.moneycontrol.com/news/business/markets/msci-adds-zomato-irctc-mindtree-4-others-to-india-index-ipca-labs-rec-to-be-deleted-7711561.html&sa=U&ved=2ahUKEwj24L6T4Kb0AhWCQc0KHVoxCxsQ0Y8FegQIBBAC&usg=AOvVaw0E9aV9a4l2diHbyAE67uwc',\n",
              " '/search?q=money+control+ZOMATO&ie=UTF-8&tbm=nws&ei=btCYYfbxNIKDtQba4qzYAQ&start=10&sa=N',\n",
              " '/url?q=https://support.google.com/websearch%3Fp%3Dws_settings_location%26hl%3Den&sa=U&ved=0ahUKEwj24L6T4Kb0AhWCQc0KHVoxCxsQty4IVQ&usg=AOvVaw1-kButI3_csWLByjtV-G3C',\n",
              " '/url?q=https://accounts.google.com/ServiceLogin%3Fcontinue%3Dhttps://www.google.com/search%253Fq%253Dmoney%252Bcontrol%252BZOMATO%2526tbm%253Dnws%26hl%3Den&sa=U&ved=0ahUKEwj24L6T4Kb0AhWCQc0KHVoxCxsQxs8CCFY&usg=AOvVaw3oO4B7yMsuasX1o9yXKNyq',\n",
              " 'https://www.google.com/preferences?hl=en&fg=1&sa=X&ved=0ahUKEwj24L6T4Kb0AhWCQc0KHVoxCxsQ5fUCCFc',\n",
              " 'https://policies.google.com/privacy?hl=en&fg=1',\n",
              " 'https://policies.google.com/terms?hl=en&fg=1']"
            ]
          },
          "metadata": {},
          "execution_count": 15
        }
      ]
    },
    {
      "cell_type": "markdown",
      "metadata": {
        "id": "8REYls6D8QVv"
      },
      "source": [
        "#### Stripping out unwanted URLs"
      ]
    },
    {
      "cell_type": "code",
      "metadata": {
        "id": "8uIJTMw4lN-n"
      },
      "source": [
        "import re"
      ],
      "execution_count": 16,
      "outputs": []
    },
    {
      "cell_type": "code",
      "metadata": {
        "id": "wQbWlLlW8Rxa"
      },
      "source": [
        "exclude_list = ['maps', 'policies', 'preferences', 'accounts', 'support']"
      ],
      "execution_count": 17,
      "outputs": []
    },
    {
      "cell_type": "code",
      "metadata": {
        "id": "nmkmbLLu8R0Z"
      },
      "source": [
        "def strip_unwanted_urls(urls, exclude_list):\n",
        "  val = []\n",
        "  for url in urls:\n",
        "    if 'https://' in url and not any (exclude_word in url for exclude_word in exclude_list):\n",
        "      res = re.findall(r'(https?://\\S+)', url)[0].split('&')[0]\n",
        "      val.append(res)\n",
        "  return list(set(val))\n"
      ],
      "execution_count": 18,
      "outputs": []
    },
    {
      "cell_type": "code",
      "metadata": {
        "colab": {
          "base_uri": "https://localhost:8080/"
        },
        "id": "F0z6dzL98R3P",
        "outputId": "875c39b3-6bc8-405a-f6fa-cce19c8c866a"
      },
      "source": [
        "cleaned_urls = {ticker:strip_unwanted_urls(raw_urls[ticker], exclude_list) for ticker in monitored_tickers}\n",
        "cleaned_urls"
      ],
      "execution_count": 19,
      "outputs": [
        {
          "output_type": "execute_result",
          "data": {
            "text/plain": [
              "{'NYKAA': ['https://www.moneycontrol.com/news/business/ipo/nykaa-ipo-opens-issue-subscribed-10-so-far-on-first-day-of-bidding-7639861.html',\n",
              "  'https://www.moneycontrol.com/news/business/ipo/nykaa-ipo-share-allotment-to-be-finalised-today-also-check-listing-date-grey-market-premium-here-7689721.html',\n",
              "  'https://www.moneycontrol.com/news/business/ipo/nykaa-ipo-to-open-on-october-28-price-band-at-rs-1085-1125-per-share-7613081.html',\n",
              "  'https://www.moneycontrol.com/news/business/ipo/nykaa-makes-a-stellar-debut-stock-lists-at-rs-2018-with-79-premium-7698501.html',\n",
              "  'https://www.moneycontrol.com/news/business/companies/nykaa-paytm-and-long-term-investing-7719421.html',\n",
              "  'https://www.moneycontrol.com/news/business/ipo/nykaa-ipo-opens-on-october-28-10-key-things-to-know-before-subscribing-to-the-issue-7622901.html',\n",
              "  'https://www.moneycontrol.com/news/business/earnings/fsn-e-conykaa-standalone-september-2021-net-sales-at-rs-49-39-crore-up-21-6-y-o-y-7738801.html',\n",
              "  'https://www.moneycontrol.com/news/business/ipo/nykaa-ipo-subscribed-5-71-times-on-final-day-qib-portion-booked-4-73-times-7658921.html',\n",
              "  'https://www.moneycontrol.com/news/business/ipo/nykaa-ipo-day-2-experts-give-a-thumbs-up-to-the-public-issue-7642851.html',\n",
              "  'https://www.moneycontrol.com/news/business/earnings/nykaa-q2-result-pat-comes-in-at-rs-1-2-crore-revenue-surges-47-yoy-7718181.html'],\n",
              " 'ZOMATO': ['https://www.moneycontrol.com/news/business/startup/magicpin-bags-60-million-in-its-series-d-round-led-by-zomato-7704121.html',\n",
              "  'https://www.moneycontrol.com/news/trends/paytm-ipo-on-paytms-big-ipo-day-zomato-bigbasket-send-dahi-shakkar-basket-full-of-luck-7690011.html',\n",
              "  'https://www.moneycontrol.com/news/photos/business/stocks/buzzing-stocks-paytm-one-97-communications-sapphire-foods-onelife-capital-advisors-and-other-stocks-in-news-today-7733161.html',\n",
              "  'https://www.moneycontrol.com/news/business/stocks/buy-zomato-target-of-rs-183-geojit-7735931.html',\n",
              "  'https://www.moneycontrol.com/news/business/companies/info-edge-to-use-profits-not-risk-capital-like-zomato-to-invest-founder-sanjeev-bikhchandani-7724651.html',\n",
              "  'https://www.moneycontrol.com/news/business/markets/msci-adds-zomato-irctc-mindtree-4-others-to-india-index-ipca-labs-rec-to-be-deleted-7711561.html',\n",
              "  'https://www.moneycontrol.com/news/business/markets/paytm-enters-rs-1-lakh-crore-mcap-club-despite-a-debut-fiasco-7740851.html',\n",
              "  'https://www.moneycontrol.com/news/business/startup/exclusive-zomato-in-advance-talks-to-invest-in-shiprocket-in-200-million-round-7687471.html',\n",
              "  'https://www.moneycontrol.com/news/business/stocks/what-should-investors-do-with-zomato-post-q2-earnings-buy-sell-or-hold-7704901.html',\n",
              "  'https://www.moneycontrol.com/news/business/companies/exclusive-zomato-wants-to-do-an-info-edge-scouts-for-investments-in-startups-7698731.html']}"
            ]
          },
          "metadata": {},
          "execution_count": 19
        }
      ]
    },
    {
      "cell_type": "markdown",
      "metadata": {
        "id": "jDancsXy9_lo"
      },
      "source": [
        "#### Searching and scraping cleaned URLs"
      ]
    },
    {
      "cell_type": "code",
      "metadata": {
        "id": "qCWhqpTp95bk"
      },
      "source": [
        "def scrape_and_process(URLs):\n",
        "    ARTICLES = []\n",
        "    for url in URLs: \n",
        "        r = requests.get(url)\n",
        "        soup = BeautifulSoup(r.text, 'html.parser')\n",
        "        paragraphs = soup.find(class_ = 'page_left_wrapper').find_all('p')\n",
        "        text = [paragraph.text for paragraph in paragraphs]\n",
        "        words = ' '.join(text).split(' ')[:350]\n",
        "        ARTICLE = ' '.join(words)\n",
        "        ARTICLES.append(ARTICLE)\n",
        "    return ARTICLES"
      ],
      "execution_count": 20,
      "outputs": []
    },
    {
      "cell_type": "code",
      "metadata": {
        "colab": {
          "base_uri": "https://localhost:8080/"
        },
        "id": "i454SxLK8R6G",
        "outputId": "be7b2b95-7cfe-469c-e4da-745ece53dc69"
      },
      "source": [
        "articles = {ticker:scrape_and_process(cleaned_urls[ticker]) for ticker in monitored_tickers}\n",
        "articles"
      ],
      "execution_count": 21,
      "outputs": [
        {
          "output_type": "execute_result",
          "data": {
            "text/plain": [
              "{'NYKAA': ['The public issue of\\xa0FSN E-Commerce Ventures, backed by Falguni Nayar and private equity firm TPG, has subscribed\\xa01.55 times as it received bids for\\xa04.09 crore\\xa0equity shares against an IPO size of 2.64 crore shares on October 28, the first day of bidding. The offer size has been reduced to 2.64 crore equity shares from more than 4.75 crore equity shares after the company\\xa0raised Rs 2,396 crore from anchor investors on October 27. Retail investors have put in bids for\\xa03.50 times of their reserved portion and a part set aside for non-institutional investors was subscribed\\xa060 percent. Employees have subscribed for\\xa01,69,140 equity shares against their reserved portion of 2.5 lakh shares, while qualified institutional buyers\\xa0have bought\\xa01.39\\xa0times\\xa0the\\xa0portion set aside for them. This is the first public issue to hit the street in the last one month after Aditya Birla Sun Life AMC. The offer will close on November 1. Also read\\xa0-\\xa0Nykaa IPO opens: 10 key things to know before subscribing to the issue The Nykaa and Nykaa Fashion operator aims to raise Rs 5,351.92 crore through its initial public offering (IPO) that comprises a fresh issue of Rs 630 crore by the company and an offer for sale of Rs 4,721.92 crore by selling shareholders. That means bulk of the issue size or 88 percent of the offer money, will go to selling shareholders, including promoters and investors. The price band for the offer has been fixed at Rs 1,085-1,125 per share. All the brokerages advised subscribing the public issue for listing gains as well as for long-term perspective, given the strong growth potential in beauty and personal care segment, strong management team, healthy financials, strong relationship with global brands, and diverse portfolio of own brands, though the issue is a bit expensive. \"The IPO is being valued at a price/sales of 21.0-21.8x FY21 revenues of Rs 2,441 crore. The company has also posted strong revenue CAGR of 48.2 percent between FY2019-20 despite the Covid crisis and register a profit in FY2021,\" said Jyoti Roy of Angel One. Also read\\xa0-\\xa0It\\'s official: Paytm\\'s Rs 18,300-crore IPO to open on November 8 \"While valuations may appear',\n",
              "  \"Nykaa operator FSN E-Commerce Ventures is expected to finalise the share allotment on November 8 after its initial public offering (IPO) got an overwhelming response in the Diwali week. Investors can check their share allotment status either on the BSE website or the website of IPO registrar. On the BSE website, investors have to follow these easy steps to know their application status: a) Select 'Equity' under issue type and issue name 'FSN E-Commerce Ventures' b) Enter the application number and the permananet account number (PAN) c) Check the box 'I'm not a robot' and then click on the 'search' button. Alternatively, allotment can also be checked on IPO register's website: a) Select company name 'FSN E-Commerce Ventures' b) Enter either PAN or the application number or DP/Client ID or account No/IFSC c) Click on submit to know the allotment status Once share allotment is finalised, unsuccessful investors will get funds back in their bank accounts by November 9 and shares will be credited to demat accounts of successful investors by November 10. The shares will start trading on the BSE and NSE on November 11, 2021. To Know All IPO Related News, Click Here The share was trading at Rs 1,725-1,825 in the grey market, a premium of Rs 600-700, or 53-62 percent, over the issue price of Rs 1,125 a share, the IPO Watch and IPO Central data showed. The premium has remained around these levels since the beginning of public issue subscription. The\\xa0grey market\\xa0is an unofficial trading platform where shares get traded well before the allotment in an IPO and listing on the bourses.\\u200b The Rs 5,351.92-crore\\xa0public offer was subscribed 81.78 times\\xa0during the October 28-November 1 period. Bids were received for 216.59 crore equity shares against the IPO size of 2.64 crore shares. The portion set aside for retail investors was subscribed 121.24 times and that for employees 1.88 times. Qualified institutional buyers and non-institutional investors, too, provided good support to the issue, as their reserved portions were subscribed 91.18 times and 112.02 times, respectively. For Paytm IPO Live Updates,\\xa0Click Here The public issue of Falguni Nayar-promoted\",\n",
              "  'FSN E–Commerce Ventures, a digital native consumer technology platform that runs Nykaa and Nykaa Fashion, has decided to launch its initial public offering (IPO) on October 28. The offer will close on November 1. The company plans to raise Rs\\xa05,351.92 crore through its public issue at the upper price band.\\xa0The price band has been fixed at Rs 1,085-1,125 a share.\\xa0FSN E–Commerce Ventures is promoted by Falguni Nayar and backed by private equity firm TPG. Bids can be made\\xa0for a minimum of 12 shares and in multiples of 12 shares thereafter. Retail investors can invest a minimum of\\xa0Rs\\xa013,500 for one lot and a maximum of Rs\\xa01,89,000 for 14 lots The share allotment will be finalised on November 8. Refunds will be given on November 9 investors will get shares in their demat accounts on November 10. Trading will commence from November 11. The IPO comprises a fresh issue of Rs 630 crore and an offer for sale (OFS) of 4.197 crore equity shares by the promoters and investors. While the Sanjay Nayar Family Trust will sell up to 48 lakh equity shares, investors TPG Growth IV SF Pte Ltd will offload over 54.21 lakh shares and Lighthouse India Fund III will sell 48.44 lakh shares through the OFS. Yogesh Agencies & Investments Private Ltd will offload over 25.38 lakh shares, and JM Financial and Investment Consultancy Services 9.14 lakh shares. There are 16 shareholders who are sellers. Lighthouse India III Employee Trust, Sunil Kant Munjal, Harindarpal Singh Banga, along with Indra Banga, Narotam Sekhsaria, Rishabh Mariwala, Jeenoo Khakhar, along with Kanika Khakhar and Isha Khakhar, Michael Carlos, Samina Hamied, Sanjay Maliah, Vikram Sud, and Karan Swani are among the sellers. Up to 2.5 lakh equity shares are set aside for employees. Nykaa will utilise the net proceeds for investment in subsidiaries (FSN Brands and / or Nykaa Fashion). It will be used for opening retail stores, for capital expenditure and investment in subsidiaries (Nykaa E-Retail, Nykaa Fashion and FSN Brands), new warehouses, and repayment of debt. The proceeds will also be utilised to enhance brand visibility and awareness, besides general corporate',\n",
              "  'Nykaa and Nykaa Fashion operator FSN E-Commerce Ventures\\xa0made a bumper debut as the stock listed with a massive 79 percent premium on November 10. The share opened at Rs 2,001 on the BSE, while the listing price on the National Stock Exchange was Rs 2,018. The Rs 5,352-crore public issue saw a huge demand and was subscribed 81.78 times during the October 28-November 1 period, receiving bids for 216.59 crore equity shares against the offer size of 2.64 crore shares. Qualified institutional buyers and non-institutional investors showed strong interest in the offer, as their reserved portion was subscribed 91.18 times and 112.02 times, respectively. The shares set aside for retail investors were subscribed 12.24 times and that of employees 1.88 times. FSN E-Commerce Ventures, a digital native consumer technology platform, is promoted by banker-turned-businesswoman Falguni Nayar and backed by private equity firm TPG Group. The company runs beauty and personal care business under the Nykaa vertical, where it has a leading position and apparel and accessories business under the Nykaa Fashion vertical. It also operates an offline channel, comprising 80 stores across 40 cities in India in three different store formats, as of August 2021. Also read:\\xa0KFC operator Sapphire Foods floats its IPO. Should you subscribe? The Indian beauty and personal care (BPC) market is estimated to grow at approximately Rs 2 lakh crore by 2025 from Rs 1.1 lakh crore in 2020, and the Indian fashion market is expected to grow to approximately Rs 8.7 lakh crore by 2025 from Rs 3.8 lakh crore in 2020. The majority of analysts had assigned a \"subscribe\" rating to the IPO, citing the company\\'s strong brand and experienced management team, strong financials, leading market share in the beauty & personal care segment, wide product range and strong customer base, etc. Also read:\\xa0Latent View Analytics IPO opens. 10 things to know before you subscribe Prabhudas Lilladher recommended subscribe rating to the IPO, saying\\xa0Nykaa revolutionised the art of online retailing of BPC products in India. \"Nykaa has been able to create strong consumer following and 70 percent repeat purchase led by 1) Inventory led',\n",
              "  'During Moneycontrol’s Samvat 2078 panel discussion, Dalal Street veteran Ramesh Damani recalled, in the spirit of levity, the Bollywood song Tujhe Dekha Toh Yeh Jaana Sanam to describe his emotion towards Avenue Supermarts, the owner of retail chain DMart. It was apt, for Avenue Supermarts has consistently conquered new peaks since its listing in March 2017 despite its high valuation. From its IPO price of Rs 299, the stock is up 17x at Rs 5,080 on November 12. At the current price, the stock is trading at FY22 P/E multiple of 185x commanding a market cap of Rs 3.29 lakh crore. So, while Damani might have sung in levity, investor affection is deep-rooted and for good reason. Nykaa CEO Falguni Nayar learnt these two things from Uday Kotak DMart’s business model was spot-on, when every other entrepreneur in modern retail was struggling to profitably crack the tremendous opportunity in the biggest consumer market after the US and China. The impeccable execution and measured expansion ensured that investors had no reason to complain. As the track record improved, even the skeptics on valuation hopped on to the bandwagon and took the stock higher and higher. The magic happened because DMart was created by a stock market wizard who with able management built a business that every investor craved to own. Nykaa has now served the same recipe. A bang-on business model, that has successfully tapped into the white space of organized beauty retail in India. A digital business that is highly scalable, across other product segments, and across other geographies. Again, a promoter who understands investor expectation supremely well, having been on the other side of the game for the longest time and is determined not to do anything that does not make “economic sense” in an environment where profit and growth is an either-or for most entrepreneurs. If the stock market has fallen in love with the ‘queen of beauty’, it’s understandable. Exclusive interview: Nykaa CEO Falguni Nayar What seems hard to justify though is the valuation for Nykaa. Just like it has been hard to justify DMart’s valuation. In',\n",
              "  'The initial public offering (IPO) of FSN E–Commerce Ventures, which runs Nykaa and Nykaa Fashion, will open for subscription later this week. FSN is backed by private equity firm TPG and promoted by Falguni Nayar. Here are the 10 key things to know before subscribing to the public issue. Here are 10 key things to know before subscribing public issue: 1) IPO Dates The bidding for the third-largest IPO, so far in 2021 (after Zomato and Sona Comstar) will start on October 28 and close on November 1, 2021. Anchor book, if any, will open for a day on October 27. 2) IPO Details The IPO comprises a fresh issue of Rs 630 crore and an offer for sale (OFS) of 4.19 crore equity shares by several shareholders, including the promoters and some investors. Promoter Sanjay Nayar Family Trust will sell up to 48 lakh equity shares through OFS, and investors TPG Growth IV SF Pte Ltd and Lighthouse India Fund III will offload 54.21 lakh equity shares and 48.44 lakh equity shares, respectively. Among other investors, Yogesh Agencies & Investments Pvt Ltd, will sell 25.38 lakh equity shares and JM Financial and Investment Consultancy Services will offload 9.14 lakh equity shares. Other shareholders - Lighthouse India III Employee Trust, Sunil Kant Munjal, Harindarpal Singh Banga, along with Indra Banga, Narotam Sekhsaria, Rishabh Mariwala, Jeenoo Khakhar, along with Kanika Khakhar and Isha Khakhar, Michael Carlos, Samina Hamied, Sanjay Maliah, Vikram Sud, and Karan Swani will offload 2.34 crore equity shares. The company has reserved 2.5 lakh equity shares of the total issue size for employees. To Know All IPO Related News, Click Here 3) Price Band The company, in consultation with the merchant bankers, has fixed the price band at Rs 1,085-1,125 per equity share. 4) Fund Raising At the upper band, FSN E-Commerce plans to mop up Rs 5,351.92 crore and Rs 5,184.03 crore from the lower band. 5) Issue objectives For one, the company will utilise the net proceeds from the fresh issue to invest in two subsidiaries -- FSN Brands and / or Nykaa Fashion – and',\n",
              "  'Reported Standalone quarterly numbers for FSN E-Commerce Ventures (Nykaa) are: Net Sales at Rs 49.39 crore in September 2021 up 21.6% from Rs. 40.61 crore in September 2020. Quarterly Net Profit at Rs. 18.26 crore in September 2021 up 94.65% from Rs. 9.38 crore in September 2020. EBITDA stands at Rs. 25.79 crore in September 2021 up 78.6% from Rs. 14.44 crore in September 2020. FSN E-Co(Nykaa) EPS has increased to Rs. 0.40 in September 2021 from Rs. 0.21 in September 2020. FSN E-Co(Nykaa) shares closed at 2,123.05 on November 17, 2021 (NSE)',\n",
              "  \"The initial public offering (IPO) of Nykaa and Nykaa Fashion operator FSN E-Commerce Ventures was subscribed\\xa081.78 times by November 1, the final day of bidding of the issue that opened on October 28. The offer has received bids for\\xa0216.59 crore equity shares against an IPO size of 2.64 crore equity shares, as per the subscription data. Qualified institutional investors (QII) put in bids\\xa091.18 times the portion set aside for them and non-institutional investors bought 112.02 times the shares against their reserved portion. A part set aside for retail investors was subscribed\\xa012.24\\xa0times and that of employees saw 1.88 times subscription. Falguni Nayar-promoted Nykaa aims to mop up Rs 5,351.92 crore through IPO. The offer consists of a fresh issue of Rs 630 crore and an offer-for-sale of Rs 4,721.92 crore worth of shares by the promoter and investors. The price band for the offer has been fixed at Rs 1,085-1,125 per share. A sum of Rs 2,396 crore was raised from anchor investors\\xa0on October 27. Also read:\\xa0MC Interview | Nykaa deserves premium valuation and it'll remain for some time, says Karan Taurani of Elara Capital “We recommend to go for Nykaa as it has a large beauty and personal care (BPC) market opportunity growing at 12 percent per annum and fashion opportunity growing at 18 percent per annum by 2025 ,” Astha Jain, Senior Research Analyst at Hem Securities, said. The company posted strong growth without a substantial cash burn and made profits along with a strong improvement in capital turnover ratio from 3.1 times in the FY19 to 4.2 times in FY21, she said. This shows that the company focused on capital efficiency and unit economics, while simultaneously building for scale and growth “Looking at the scale of operations, strong management team, profitability and high growth prospects in the industry due to large under-penetration, we believe that the company has created an industry in itself,” she said. Price and sales multiple seems to be an important tool for fintech companies, according to her. Also read:\\xa0Nykaa IPO day 3: Experts give a thumbs up to the public issue FSN E-Commerce has\",\n",
              "  'FSN E-Commerce Ventures, which runs the beauty and personal care (BPC) brand Nykaa, has received a thumbs up from analysts, who advise investors to subscribe to the issue. The company opened its Rs 5,351.92 crore initial public offering (IPO) on October 28. Why are analysts so optimistic about the IPO? The company\\'s strong brand image, and the management team led by banker-turned-businesswoman Falguni Nayar are the two chief reasons. Then, there are factors like the loyal customer base, healthy financials, leadership position in the specialty BPC segment, capital-efficient business model and huge growth potential. However, they agree that the issue comes at a premium valuation. Nykaa is the BPC brand and Nykaa Fashion sells apparels and accessories. The IPO comprises a fresh issue of Rs 630 crore. This will be utilised for expansion and debt reduction. Then, there is an offer for sale (OFS) for Rs 4,721.9 crore by several shareholders, including promoter Sanjay Nayar Family Trust, and private equity firm TPG Growth. Garners Rs 2,396 crore from anchor investors FSN has already garnered Rs 2,396 crore from several global and domestic investors, through the anchor book route, at the upper price band on October 27. The price band for the IPO is Rs 1,085-1,125 per equity share. “We like Nykaa, given its leadership position in the online BPC market, customer-centric approach, profitable tech platform and capital-efficient business model. The issue is valued at 16.1x FY22 EV/sales on a post issue and annualised basis, which seems to be similar to other Indian unicorns,\" said Sneha Poddar of Motilal Oswal. \"We believe Nykaa is rightly placed to tap the high growth digital/online penetration in the BPC/fashion market. Investors with high-risk appetite can subscribe for listing gains, given the fancy for the unique and first-of-its-kind listings in the e-commerce space,\" she said. ‘Nykaa\\'s entry into the fashion segment holds promise’ Analysts at Prabhudas Lilladher also recommended a subscribe rating to the IPO. “Nykaa has revolutionised the art of online retailing of BPC products in India. Nykaa has been able to create a strong consumer following and 70 percent repeat purchase,\" they reasoned.',\n",
              "  \"Nykaa on November 14 reported a consolidated net profit or PAT (profit after tax) of Rs 1.2 crore for the quarter ended September 2021 (Q2FY22). The company had posted a profit of Rs 27 crore in the year-ago period. Revenue from operations came in at Rs 885.3 crore, up 47 percent against Rs 603.8 crore in the September 2020 quarter. The gross profit margin for the July-September period was at 42.7 percent, up 345 basis points (bps) against 39.3 percent in the corresponding quarter of the previous fiscal. On a sequential basis, it improved 213 bps primarily led by an increase in the share of GMV from owned brands and increase in the share of Fashion GMV, the company said in its earnings release. Q2 FY22 EBITDA stood at Rs 28.8 crore, down 48 percent year-on-year (YoY) basis while Ebidta margin came in at 3.3 percent against 9.1 percent (down 585 bps) in the previous year's quarter. ''We have maintained growth momentum in our beauty business, accelerated our fashion business and focused on building the brand\\xa0Nykaa\\xa0with strong marketing campaigns both digitally and mass media,''\\xa0Nykaa\\xa0Executive Chairperson, MD and CEO\\xa0Falguni Nayar\\xa0said. She added that increased marketing spends has led to an acceleration of customer acquisition, which is also evident in the unique visitor and transacting customer metrics. ''The company continues to invest in expansion of retail stores and fulfilment capacity ahead of the festive season,'' she said, adding that the acquisition of the skincare brand,\\xa0Dot & Key marks\\xa0a significant step towards Nykaa's owned brands strategy. Nayar highlighted that the company has launched the\\xa0Nykaa\\xa0eB2B app -\\xa0Nykaa\\xa0Superstore. ''The business will be an area of focus for the quarters to come. On the fashion side, we have launched a brand,\\xa0Gajra Gang, in the large and promising\\xa0Indian\\xa0wear space,'' she added. According to the filing, Nykaa's\\xa0Beauty\\xa0and Personal Care GMV (gross merchandise value) grew by 38 per cent year-on-year to reach Rs 1,185.9 crore, while Fashion GMV grew by 215 per cent y-o-y to reach Rs 437 crore. Fashion GMV contribution to consolidated GMV increased to 27 per cent compared to 14 per cent in the second quarter\"],\n",
              " 'ZOMATO': ['offline retail, has raised a Series D round of $60 million led by food delivery platform Zomato. The round also saw participation from existing investors including Lightspeed Venture Partners. Zomato, in a blogpost on November 10 said it has \"...signed definitive documents for investing ~$50 million in Samast Technologies Pvt Ltd (“magicpin”) for a ~16% stake as part of a total round size of $60m. Magicpin will use the new funds for deepening presence in existing markets, launching\\xa0new markets and expanding across categories. Founded in 2015 by Anshoo Sharma and Brij Bhushan, Magicpin drives discovery of brands and retailers across categories - fashion, food, electronics, grocery, pharma, nightlife and entertainment. The app shows relevant offers from merchants where these points can be used to make savings. According to the company’s press statement, the app currently serves 6 million active users with nearly 25 sessions per user per month, and provides savings on nearly 170K merchants across big brands and local retailers. The company also started home delivery from nearby stores to complete the full cycle from offline discovery to at-home fulfillment. This investment comes at a time when Zomato is looking to diversify its bets following a blockbuster public listing. Its other investments include Shiprocket, Curefit. Moneycontrol had first reported that Zomato was in talks to invest $75 million in Shiprocket. Earlier on November 10, Moneycontrol was also the first to report that the company had a larger plan of making investments across a clutch of startups. Zomato CEO Deepinder Goyal said: “What Zomato did with restaurants, magicpin is\\xa0doing for the entire offline shopping experience. magicpin is one of the most\\xa0important players in the nascent hyperlocal e-commerce space (both offline and\\xa0online) – and we expect magicpin to create a tremendous amount of value for its\\xa0merchant partners as well as customers going forward”. Anshoo Sharma, magicpin\\'s CEO and co-founder said: “Local retail is the lifeblood of our\\xa0country. magicpin is helping drive omni-channel growth for local retail and\\xa0enabling them to leverage the fast growing digital world. We are excited about\\xa0welcoming Zomato into the company - this round puts us in a position',\n",
              "  \"Paytm kicked off its initial public offering (IPO) for subscription today, in what is India's biggest-ever public issue. The digital payment platform is looking to raise nearly $2.5 billion, in what has already been a record year for share listings. And while “PayTM IPO” and other related terms where the most searched keywords on Google and on social media, fellow brands joined the online buzz to wish Paytm good luck. thank you @zomato, dil khush kar diya. https://t.co/QH0809fdTM pic.twitter.com/R9ANrdskCa  Zomato was the country's biggest IPO of the year until now with its $1.3 billion share issue in July. Paytm responded on an equally friendly note. “thank you @zomato, dil khush kar diya (you’ve made the heart happy).” Grocery delivery platform BigBasket had this to say to Paytm: Dear @paytm, we wish you a basket full of luck and blessings.” big thank you! https://t.co/DnVaVqlQxO \",\n",
              "  '',\n",
              "  \"Geojit's research report on Zomato Zomato Limited is a leading food delivery aggregator in India and has presence in 23 other countries abroad. The company had revenues of nearly Rs. 1,994cr as of FY21. Driven by rapid increase in the number online gross order values of Indian food delivery, revenue jumped 140.4% YoY in Q2FY22. However, EBITDA loss widened to Rs. 536cr (vs. Rs. 122cr loss in Q2FY21) on higher opex. Adj. PAT also fell to Rs. 435cr loss (vs. Rs. 138cr loss in Q2FY21). The mainstay food ordering and delivery business is expected to drive shareholder value creation going forward. The management believes that the food delivery market in India is still nascent, and there is an opportunity to grow the market at least 10x over the next few years. Outlook Maintaining a positive outlook, we reiterate our BUY rating on the stock with a target price of Rs. 183 based on 23x FY23E P/Sales. For all recommendations report,\\xa0click here Disclaimer:\\xa0The views and investment tips expressed by investment experts/broking houses/rating agencies on moneycontrol.com are their own, and not that of the website or its management. Moneycontrol.com advises users to check with certified experts before taking any investment decisions. Disclaimer:\\xa0The views and investment tips expressed by investment experts/broking houses/rating agencies on moneycontrol.com are their own, and not that of the website or its management. Moneycontrol.com advises users to check with certified experts before taking any investment decisions.\",\n",
              "  'Info Edge takes a conservative approach when it comes to investing in companies, by using its profits rather than risk capital, its founder and vice-chairman Sanjeev Bikhchandani said. He was responding to analysts who asked him about its investee company, Zomato\\'s strategy of using the capital it raised from the public markets recently to invest in a clutch of startups. During the Info Edge earnings call on November 15, after what was its best quarter in a decade, Bikhchandani said, “Now, as far as investing money from operating cash flows, a more conservative approach would be, ‘Hey, make a profit. With that profit, invest, as opposed to risk capital investments.\" “That\\'s probably the way in which we would have done it because we are more conservative. But Zomato has always been a more dynamic risk-taker than we have been, and it has worked for them. What we do works for us,” he said. “So I don\\'t say one approach is necessarily better than the other. But even in this way, we have taken almost 24 years to reach maybe $10-11 billion market cap and they\\'ve taken 13 years to reach, $13-14 billion market cap, maybe even higher. But they\\'ve got that. Right. So I am not saying that high risk is better than low risk or no risk. But I think they do have different approaches and we accept it,” Bikhchandani added. Info Edge, which operates portals such as Naukri, Jeevansathi and 99acres, is one of Zomato\\'s earliest investors as well as largest shareholders. Last week, Moneycontrol reported that food delivery platform Zomato is planning to make financial investments in a clutch of startups over the next few quarters, as it wants to build a diverse investment portfolio and tap into the growing Internet market in India. Zomato, along with its second-quarter earnings, unveiled investments in Shiprocket, Magicpin, and CureFit, with plans to deploy another $1 billion over the next 1-2 years, with a large chunk of it likely to go into the quick-commerce space. On the face of it, Zomato\\'s strategy to build an investment portfolio on top of',\n",
              "  'MSCI Inc, a leading provider of research-based indexes and analytics, will be including total seven companies, including Zomato, IRCTC and Mindtree, in its MSCI India Index as a part of Semi-Annual Index Review. \"....announced November 2021 Semi-Annual Index Review for the MSCI Equity Indexes - including the MSCI Global Standard, MSCI Global Small Cap and MSCI Micro Cap Indexes, the MSCI Global Value and Growth Indexes, the MSCI Frontier Markets, and MSCI Frontier Markets Small Cap Indexes, the MSCI Global Islamic Indexes, the MSCI US Equity Indexes, the MSCI US REIT Index, the MSCI China A Onshore Indexes and the MSCI China All Shares Indexes,\" said MSCI in its press release. All changes will be implemented as of the close of November 30, 2021, it said. Godrej Properties, Indian Railway Catering and Tourism Corporation (IRCTC), Mindtree, Mphasis, SRF, Tata Power Company, and Zomato will be added in the MSCI India Index with effect from December 1, 2021. Food delivery giant Zomato got listed on the bourses in July 2021, making the investment double from its issue price of Rs 76. After the MSCI news, it was up 8 percent today. It is the only new company that is getting added in the index. Earlier Godrej Properties, IRCTC, Mindtree, Mphasis, SRF, and Tata Power were a part of\\xa0Global Small Cap Indexes However, Ipca Laboratories and REC will be deleted from the MSCI India index, said the MSCI. Under the smallcap segment, MSCI added total 69 companies in its Global Small Cap Indexes, however, deleted 10 companies. ABB Power Products, Allcargo Logistics, Angel One, BSE, Brookfield India REIT, Chalet Hotels, Delta Corp, eClerx Services, Equitas Small Finance Bank, HFCL, Hikal, Jubilant Ingrevia, Mastek, NIIT, Paisalo Digital, Rossari Biotech, REC, Shree Renuka Sugars, Sterling Wilson & Solar, TCI Express, TVS Motor, and Tejas Networks among 69 companies that will be added in Global Small Cap Indexes. Newly listed companies like CarTrade Tech, Clean Science, Chemplast Sanmar, Devyani International, Home First Finance, MTAR Technologies, Nazara Technologies, and Nuvoco Vistas Corporation are also getting included in Smallcap index. Companies that are deleted from Global Small',\n",
              "  'Patym operator\\xa0One 97 Communications has become the third company to join the Rs 1-lakh-crore market capitalisation league through public issues\\xa0floated this year, though the mobile wallet tanked 27.25 percent on its debut under intense selling pressure. It was the first of the IPOs\\xa0that were listed in the last 10 years to see 27 percent correction on the debut day. The issue, priced at Rs 2,150 per share, was locked in the 20 percent lower circuit to settle at Rs 1,564.15 on the BSE, compared to a pre-opening price of Rs 1,955. At the closing on Thursday, One 97 had a market capitalisation of\\xa0Rs 101,399.72 crore, while at the issue price, it was having a market value of Rs 1,39,378.83 crore. Only two issues among the IPOs\\xa0floated this year – Falguni Nayar-owned Nykaa operator FSN E-Commerce Ventures and food delivery giant Zomato – crossed the Rs 1-lakh-crore mark with market caps of Rs 1,00,154.16 crore\\xa0and\\xa0Rs 1,21,731.05 crore before Paytm. But the difference among these companies was in their stock performance on the listing day. Both these shares fared better than Paytm on the listing day and defended their issue price quite strongly till now. Also read\\xa0-\\xa0With 27% fall on debut day, Paytm emerges as biggest loser among IPOs listed in a decade. The Zomato\\xa0shares surged 65.6 percent to close at Rs 125.85 on July 23, 2021, the listing day, and shot up 103.5 percent to close at Rs 154.65, compared to the issue price.\\xa0Nykaa, too,\\xa0 made its investors richer on the listing day with 96.2 percent gain to Rs 2,206.70 and registered an 88.2 percent gains, as against an issue price of Rs 1,125. One more factor that made a big difference among the richest trio has been the issue price. Paytm was the first among\\xa0the IPOs\\xa0to set an issue price above Rs 2,000 (Rs 2,150 per share), at least since 2007, as per the database of\\xa0Chittorgarh, and the stock failed to defend this on its listing day. The Zomato issue was priced at Rs 76 and Nykaa at Rs 1,125 per share. Click Here\\xa0To Know All IPO Related News The',\n",
              "  \"Online food delivery firm Zomato, which listed on Indian bourses earlier this year, is in advance talks to invest in logistics aggregator Shiprocket in a $200-million round, sources have told Moneycontrol. Zomato is likely to invest around $75 million in Shiprocket, sources said, in what will be the Gurgram-based company's first big-ticket investment after getting listed. The company is expected to diversify its bet in the logistics space with this investment. The move comes at a time when quick commerce expansion is prompting companies to bolster their logistics ambitions. In India, quick commerce,\\xa0which is defined as the delivery of items under 45 minutes at a nominal charge, is expected to grow by 10-15 times over the next five years to become a $5 billion market by 2025, consulting firm RedSeer has said. Zomato did not respond to Moneycontrol’s queries but is expected to inform the stock exchange about this deal over the next few days. The company's board is to meet on November 10. Shiprocket founder did not respond to Moneycontrol’s calls and messages. Zomato tried its hand in the grocery space earlier this year but exited following gaps in order fulfillment, poor customer experience and increasing competition from rivals. \\xa0 However, it has also invested in grocery firm Grofers. While the deal was signed ahead of Zomato's public listing, the regulator's approval came later. Shiprocket works with courier companies in India and connects merchants, consumers and supply-chain partners across thousands of pin codes in the country and around the world. Apart from shipping services, Shiprocket also offers a technology stack to assist retailers in integrating their online stores such as Shopify, Magento, WooCommerce and Zoho for workflow, inventory, and order management. The company has, so far, raised around $94 million, with the last funding coming in July when it raised $41.3 million. It was a Series-D1 funding led by PayPal Ventures and existing investor Bertelsmann India Investments. Zomato founder Deepinder Goyal is also an angel investor in the company. He invested in Shiprocket in the July funding round. The company says that D2C commerce forms roughly 15 percent of\",\n",
              "  'Zomato share price surged 6 percent in the early trade on November 11 a day after the company announced its September quarter earnings.\\xa0Zomato, the online food delivery platform, on November 10 announced its July-September quarter results for the financial year 2021-22. The company reported a net loss of Rs 430 crore on a consolidated basis compared to a loss of Rs 230 crore in the same period of last year, an increase of 87 percent. It had reported a net loss of Rs 356 crore in the previous quarter when it declared its maiden results as a public limited company. On a sequential basis, the loss for the company increased by 21 percent. The online food aggregator recorded consolidated revenues of Rs 1,024 crore for the quarter compared to Rs 426 crore in the same period last year. The revenues increased by a robust 140 percent. Compared to the previous quarter, the revenues are up by 21 percent from Rs 844 crore. Adjusted revenues for the quarter came in at Rs 1,420 crore, a 22.6 percent growth q-o-q and 144.9 percent y-o-y growth. Catch all the market action on our live blog Here is what brokerages have to say about the stock and the company post the September quarter earnings: Macquarie The research house has kept an outperform rating on the stock with a target price of Rs 183\\xa0citing more clarity in long-term strategy and cash usage after Q2 results. Goldman Sachs Goldman Sachs has maintained a buy call and has raised the target price on the stock to Rs 185. The broking firm raised FY22 gross order value (GOV)/revenue estimates by 13%/9%. It feels that the market is likely to reward growth over profitability for foreseeable future. It forecast a 51% FY21-25 CAGR for Zomato’s GOV (46% earlier) and the company is well-positioned to capture accelerated shift to online in food delivery. Morgan Stanley Morgan Stanley has kept an equal-weight rating on the stock with target at Rs 140.\\xa0GOV of $721 million (+19.2% QoQ, +158.2% YoY) against Morgan Stanley’s estimate of $590 million.\\xa0The contribution margin in food delivery dropped',\n",
              "  'Four months after its blockbuster debut on the public markets, food delivery platform Zomato now wants to model itself after one of its early investors and largest shareholders- Info Edge. It is looking to make financial investments to the tune of $50-$100 million in a clutch of startups over the next few quarters, as it wants to build a diverse investment portfolio and tap into the growing Internet market in India. Zomato recently raised over $1.25 Billion by listing on the public markets, comprising a fresh issue of equity shares worth Rs 9,000 crore and an offer-for-sale (OFS) worth Rs 375 crore by existing investor Info Edge. Sources familiar with the development told Moneycontrol that Zomato has approached founders of at least 10-20 startups in the consumer internet space with an offer to invest in them in return for a stake. Of these, its investment in Shiprocket, which Moneycontrol reported about earlier this week, is likely to be announced along with its second-quarter results on November 10th, 2021. It is also likely to unveil its investment in business discovery and rewards platform Magicpin, which counts Zomato founder Deepinder Goyal as a board member. Zomato has already made an investment for a 10 percent stake in the grocery delivery app, Grofers. Separately, sources said that Zomato might look to divest Fitso, a sports discovery startup that it acquired in January this year, as it looks to get out of non-core businesses. Zomato did not comment for this story as it is in its silent period ahead of its earnings. \"There are at least 5-6 companies lined up for investments of $50-$200 million. They have been approaching dozens of companies with term sheets. These are consumer internet startups in the growth stage, with a valuation of less than $1 Billion, who they believe will do well,\" a person familiar with the development said. Another source said that Zomato has also been expanding its corporate development team to scout for potential investments. Moneycontrol reported in September that Zomato is looking to beef up its finance function by hiring Nitin Savara, a senior partner']}"
            ]
          },
          "metadata": {},
          "execution_count": 21
        }
      ]
    },
    {
      "cell_type": "markdown",
      "metadata": {
        "id": "-77YMCA-JDbA"
      },
      "source": [
        "#### Summarising the articles"
      ]
    },
    {
      "cell_type": "code",
      "metadata": {
        "id": "Jl2RKl2D8R9K"
      },
      "source": [
        "def summarize(articles):\n",
        "    summaries = []\n",
        "    for article in articles:\n",
        "        input_ids = tokenizer.encode(article, return_tensors='pt')\n",
        "        output = model.generate(input_ids, max_length=55, num_beams=5, early_stopping=True)\n",
        "        summary = tokenizer.decode(output[0], skip_special_tokens=True)\n",
        "        summaries.append(summary)\n",
        "    return summaries"
      ],
      "execution_count": 22,
      "outputs": []
    },
    {
      "cell_type": "code",
      "metadata": {
        "colab": {
          "base_uri": "https://localhost:8080/"
        },
        "id": "_aHNgi3u8R_Y",
        "outputId": "fe58f751-89af-4f61-a600-0e6cb52818ec"
      },
      "source": [
        "summaries = {ticker:summarize(articles[ticker]) for ticker in monitored_tickers}\n",
        "summaries"
      ],
      "execution_count": 23,
      "outputs": [
        {
          "output_type": "execute_result",
          "data": {
            "text/plain": [
              "{'NYKAA': ['Retail investors put in bids for 3.50 times of reserved portion. Employees have subscribed for 1,69,140 equity shares',\n",
              "  \"Investors can check share allotment status on BSE website. Nykaa operator FSN E-Commerce Ventures' public offering was subscribed 81.78 times\",\n",
              "  'Retail investors can invest a minimum of Rs 13,500 and a maximum of Rs 1,89,000.',\n",
              "  \"FSN E-commerce Ventures' IPO was subscribed 81.78 times in October 28-November 1.\",\n",
              "  'DMart’s business model was spot-on, Nykaa CEO Nayar says.',\n",
              "  'Bidders will start bidding for the third-largest IPO of the year on October 28.',\n",
              "  'FSN E-Commerce Ventures (Nykaa) has posted 94.65% jump in net profit.',\n",
              "  'The issue has received bids for 216.59 crore shares against an IPO size of 2.64 crore shares.',\n",
              "  '‘Nykaa is rightly placed to tap the high growth digital/fashion market,’ says Motilal Oswal.',\n",
              "  'Online retailer Nykaa has acquired skincare brand, Dot & Key.'],\n",
              " 'ZOMATO': ['Food delivery platform Zomato leads $60 million Series D round of investment. Magicpin has 6 million active users with 25 sessions per month',\n",
              "  'Food delivery platform BigBasket is among the first to wish Paytm good luck.',\n",
              "  'All photographs subject to copyright.',\n",
              "  'Angel Broking is bullish on Zomato and has recommended buy rating on the stock',\n",
              "  \"Info Edge founder and vice-chairman Bikhchandani comments. He was responding to analysts who asked him about Zomato's strategy of investing\",\n",
              "  'Food delivery giant Zomato will be added to MSCI India Index from December 1, 2021.',\n",
              "  \"Mobile wallet plunges 27.25 percent on debut day. Only two issues among this year's IPOs have crossed the Rs 1-lakh-crore mark\",\n",
              "  'Online food delivery firm Zomato is said to invest $75 million in Shiprocket. Move comes as India’s quick commerce market is expected to grow',\n",
              "  'Online food delivery platform reported an increase of 87 percent in loss.',\n",
              "  'Food delivery platform Zomato recently raised over $1.25 billion by listing on the stock market. It is also looking to exit non-core businesses']}"
            ]
          },
          "metadata": {},
          "execution_count": 23
        }
      ]
    },
    {
      "cell_type": "code",
      "metadata": {
        "colab": {
          "base_uri": "https://localhost:8080/"
        },
        "id": "T_Bub1B58SBi",
        "outputId": "5eb96c59-229c-4953-8903-97451716f367"
      },
      "source": [
        "summaries['ZOMATO']"
      ],
      "execution_count": 24,
      "outputs": [
        {
          "output_type": "execute_result",
          "data": {
            "text/plain": [
              "['Food delivery platform Zomato leads $60 million Series D round of investment. Magicpin has 6 million active users with 25 sessions per month',\n",
              " 'Food delivery platform BigBasket is among the first to wish Paytm good luck.',\n",
              " 'All photographs subject to copyright.',\n",
              " 'Angel Broking is bullish on Zomato and has recommended buy rating on the stock',\n",
              " \"Info Edge founder and vice-chairman Bikhchandani comments. He was responding to analysts who asked him about Zomato's strategy of investing\",\n",
              " 'Food delivery giant Zomato will be added to MSCI India Index from December 1, 2021.',\n",
              " \"Mobile wallet plunges 27.25 percent on debut day. Only two issues among this year's IPOs have crossed the Rs 1-lakh-crore mark\",\n",
              " 'Online food delivery firm Zomato is said to invest $75 million in Shiprocket. Move comes as India’s quick commerce market is expected to grow',\n",
              " 'Online food delivery platform reported an increase of 87 percent in loss.',\n",
              " 'Food delivery platform Zomato recently raised over $1.25 billion by listing on the stock market. It is also looking to exit non-core businesses']"
            ]
          },
          "metadata": {},
          "execution_count": 24
        }
      ]
    },
    {
      "cell_type": "markdown",
      "metadata": {
        "id": "nEc6ACxkJJPD"
      },
      "source": [
        "#### Adding Sentiment analysis"
      ]
    },
    {
      "cell_type": "code",
      "metadata": {
        "colab": {
          "base_uri": "https://localhost:8080/",
          "height": 182,
          "referenced_widgets": [
            "80b1895d54ce41e7b380bb9fad0bef2d",
            "479e0b8c9ba74600b2acdb787df3a44c",
            "280072278c0c467691eccfd482461011",
            "6a6264e81ec3453b82ff937061d16113",
            "2434db9c02314f73bf8034d5d9c6174e",
            "48002e60dfab41a785d11bd829e9541d",
            "d90cb93615204e87b68deb06d0393733",
            "573458712a454bcdbfa782ee93f44882",
            "0ac20b829ca248d98fcfe560cebf3014",
            "f2624ea155424166ba7c1b1cd5b2a2d0",
            "030dc3afd4e84117bfc0011df52c0569",
            "d38982b7f427474ab4a6233745d72b5b",
            "e6a4da06609142d3afa1cec1317a2eae",
            "4d89109d1aa343889f497cef50143ec5",
            "d0d7e5a2026044dd8cfae719c7cb7db0",
            "b69ae25e1d504ea39c6a8765e487d1ea",
            "0d70ee741b4b48c484193e08bcbb990f",
            "70ddbb0eb90d46c4b86d8697c1b21fa3",
            "4a98075b1c04429d8316652336e77892",
            "9451c14cfb20478f85be9f08c11d6519",
            "584dbc1d555343fcb1d491bf60afd4db",
            "909bd799ab72420eb38d4de0317610f6",
            "3b5960ff2c224c3db21e11a374dd6df9",
            "84c4eaa2611a43bf80856b37eac42684",
            "85a1135cd3804c439be2fadae47ce370",
            "9123a91b112844918991a0794349ae95",
            "12ad9cec4ae2461aafe17a1f4982d8df",
            "d0987a95984c4359aa3a2c0139507421",
            "3565a225454446af9f475ea13e96a250",
            "382f692017254c968a2bef99c5cf9a02",
            "63d635b2e50a4801b13631b0b9e36932",
            "1d761751cb7d42c4809364fe0b4cbfdd",
            "e32a7af14ca749979adacbd5db7cbc6b",
            "d6e3b7a72be64995ae8a6ecde6b3d8d1",
            "bf0f921deb3a4fd1a68771456b3a761e",
            "884ca547099b4944804b2ef0c84bb0f6",
            "a664eea1202546fea52a318b533766dd",
            "b4a2d2188d664c72a1fca544f4cee86e",
            "8a2a4f2d449f4c8a91dfc750dca17853",
            "9640fb3219b44db98f0a4872bc182b92",
            "a22318ecaab643aba3d13a58f168a385",
            "f3f9f3f4359a4127be5131fac601205e",
            "01e876dde74444c18a014b05a806d6ca",
            "88d59158d68841708a5b16b81aa1940b"
          ]
        },
        "id": "DQsEbheNJJ_X",
        "outputId": "93de971a-8664-459d-a4ea-ddd733a92fca"
      },
      "source": [
        "from transformers import pipeline\n",
        "sentiment = pipeline('sentiment-analysis')"
      ],
      "execution_count": 25,
      "outputs": [
        {
          "output_type": "stream",
          "name": "stderr",
          "text": [
            "No model was supplied, defaulted to distilbert-base-uncased-finetuned-sst-2-english (https://huggingface.co/distilbert-base-uncased-finetuned-sst-2-english)\n"
          ]
        },
        {
          "output_type": "display_data",
          "data": {
            "application/vnd.jupyter.widget-view+json": {
              "model_id": "80b1895d54ce41e7b380bb9fad0bef2d",
              "version_minor": 0,
              "version_major": 2
            },
            "text/plain": [
              "Downloading:   0%|          | 0.00/629 [00:00<?, ?B/s]"
            ]
          },
          "metadata": {}
        },
        {
          "output_type": "display_data",
          "data": {
            "application/vnd.jupyter.widget-view+json": {
              "model_id": "d38982b7f427474ab4a6233745d72b5b",
              "version_minor": 0,
              "version_major": 2
            },
            "text/plain": [
              "Downloading:   0%|          | 0.00/255M [00:00<?, ?B/s]"
            ]
          },
          "metadata": {}
        },
        {
          "output_type": "display_data",
          "data": {
            "application/vnd.jupyter.widget-view+json": {
              "model_id": "3b5960ff2c224c3db21e11a374dd6df9",
              "version_minor": 0,
              "version_major": 2
            },
            "text/plain": [
              "Downloading:   0%|          | 0.00/48.0 [00:00<?, ?B/s]"
            ]
          },
          "metadata": {}
        },
        {
          "output_type": "display_data",
          "data": {
            "application/vnd.jupyter.widget-view+json": {
              "model_id": "d6e3b7a72be64995ae8a6ecde6b3d8d1",
              "version_minor": 0,
              "version_major": 2
            },
            "text/plain": [
              "Downloading:   0%|          | 0.00/226k [00:00<?, ?B/s]"
            ]
          },
          "metadata": {}
        }
      ]
    },
    {
      "cell_type": "code",
      "metadata": {
        "colab": {
          "base_uri": "https://localhost:8080/"
        },
        "id": "uQFmo5RcJKBy",
        "outputId": "f752b591-3492-4b0c-e391-a87a779c0715"
      },
      "source": [
        "sentiment(summaries['ZOMATO'])"
      ],
      "execution_count": 26,
      "outputs": [
        {
          "output_type": "stream",
          "name": "stderr",
          "text": [
            "/usr/local/lib/python3.7/dist-packages/torch/utils/data/dataloader.py:481: UserWarning: This DataLoader will create 8 worker processes in total. Our suggested max number of worker in current system is 2, which is smaller than what this DataLoader is going to create. Please be aware that excessive worker creation might get DataLoader running slow or even freeze, lower the worker number to avoid potential slowness/freeze if necessary.\n",
            "  cpuset_checked))\n"
          ]
        },
        {
          "output_type": "execute_result",
          "data": {
            "text/plain": [
              "[{'label': 'POSITIVE', 'score': 0.7904181480407715},\n",
              " {'label': 'NEGATIVE', 'score': 0.6091110706329346},\n",
              " {'label': 'NEGATIVE', 'score': 0.9676677584648132},\n",
              " {'label': 'NEGATIVE', 'score': 0.9668949842453003},\n",
              " {'label': 'POSITIVE', 'score': 0.7293859720230103},\n",
              " {'label': 'POSITIVE', 'score': 0.8657234311103821},\n",
              " {'label': 'NEGATIVE', 'score': 0.9931377172470093},\n",
              " {'label': 'POSITIVE', 'score': 0.995121419429779},\n",
              " {'label': 'NEGATIVE', 'score': 0.9994181394577026},\n",
              " {'label': 'NEGATIVE', 'score': 0.9987953901290894}]"
            ]
          },
          "metadata": {},
          "execution_count": 26
        }
      ]
    },
    {
      "cell_type": "code",
      "metadata": {
        "colab": {
          "base_uri": "https://localhost:8080/"
        },
        "id": "t_0xEjyLJKEX",
        "outputId": "9603e36c-b90b-42ee-926a-b76f3acc9129"
      },
      "source": [
        "scores = {ticker:sentiment(summaries[ticker]) for ticker in monitored_tickers}\n",
        "scores"
      ],
      "execution_count": 27,
      "outputs": [
        {
          "output_type": "stream",
          "name": "stderr",
          "text": [
            "/usr/local/lib/python3.7/dist-packages/torch/utils/data/dataloader.py:481: UserWarning: This DataLoader will create 8 worker processes in total. Our suggested max number of worker in current system is 2, which is smaller than what this DataLoader is going to create. Please be aware that excessive worker creation might get DataLoader running slow or even freeze, lower the worker number to avoid potential slowness/freeze if necessary.\n",
            "  cpuset_checked))\n"
          ]
        },
        {
          "output_type": "execute_result",
          "data": {
            "text/plain": [
              "{'NYKAA': [{'label': 'NEGATIVE', 'score': 0.960218608379364},\n",
              "  {'label': 'NEGATIVE', 'score': 0.9751524925231934},\n",
              "  {'label': 'NEGATIVE', 'score': 0.659213125705719},\n",
              "  {'label': 'NEGATIVE', 'score': 0.9873227477073669},\n",
              "  {'label': 'POSITIVE', 'score': 0.9455984234809875},\n",
              "  {'label': 'POSITIVE', 'score': 0.9611591696739197},\n",
              "  {'label': 'POSITIVE', 'score': 0.9607256650924683},\n",
              "  {'label': 'NEGATIVE', 'score': 0.9782252311706543},\n",
              "  {'label': 'POSITIVE', 'score': 0.9993256330490112},\n",
              "  {'label': 'POSITIVE', 'score': 0.8124743103981018}],\n",
              " 'ZOMATO': [{'label': 'POSITIVE', 'score': 0.7904181480407715},\n",
              "  {'label': 'NEGATIVE', 'score': 0.6091110706329346},\n",
              "  {'label': 'NEGATIVE', 'score': 0.9676677584648132},\n",
              "  {'label': 'NEGATIVE', 'score': 0.9668949842453003},\n",
              "  {'label': 'POSITIVE', 'score': 0.7293859720230103},\n",
              "  {'label': 'POSITIVE', 'score': 0.8657234311103821},\n",
              "  {'label': 'NEGATIVE', 'score': 0.9931377172470093},\n",
              "  {'label': 'POSITIVE', 'score': 0.995121419429779},\n",
              "  {'label': 'NEGATIVE', 'score': 0.9994181394577026},\n",
              "  {'label': 'NEGATIVE', 'score': 0.9987953901290894}]}"
            ]
          },
          "metadata": {},
          "execution_count": 27
        }
      ]
    },
    {
      "cell_type": "markdown",
      "metadata": {
        "id": "zI7MOiCWKSQk"
      },
      "source": [
        "#### Expoting Results to CSV"
      ]
    },
    {
      "cell_type": "code",
      "metadata": {
        "colab": {
          "base_uri": "https://localhost:8080/"
        },
        "id": "hzW1bizK8SE8",
        "outputId": "97a7294e-9856-43ca-a531-667aa8e9965b"
      },
      "source": [
        "range(len(summaries['NYKAA']))"
      ],
      "execution_count": 28,
      "outputs": [
        {
          "output_type": "execute_result",
          "data": {
            "text/plain": [
              "range(0, 10)"
            ]
          },
          "metadata": {},
          "execution_count": 28
        }
      ]
    },
    {
      "cell_type": "code",
      "metadata": {
        "id": "FwP2APC0KgCB"
      },
      "source": [
        "def create_output_array(summaries, scores, urls):\n",
        "    output = []\n",
        "    for ticker in monitored_tickers:\n",
        "        for counter in range(len(summaries[ticker])):\n",
        "            output_this = [\n",
        "                ticker,\n",
        "                summaries[ticker][counter],\n",
        "                scores[ticker][counter]['label'],\n",
        "                scores[ticker][counter]['score'],\n",
        "                urls[ticker][counter]\n",
        "            ]\n",
        "            output.append(output_this)\n",
        "    return output"
      ],
      "execution_count": 29,
      "outputs": []
    },
    {
      "cell_type": "code",
      "metadata": {
        "colab": {
          "base_uri": "https://localhost:8080/"
        },
        "id": "2-iwxH9BKpM6",
        "outputId": "41b8f9c2-6c06-4d1c-a839-a3aefefc7179"
      },
      "source": [
        "final_output = create_output_array(summaries, scores, cleaned_urls)\n",
        "final_output"
      ],
      "execution_count": 30,
      "outputs": [
        {
          "output_type": "execute_result",
          "data": {
            "text/plain": [
              "[['ZOMATO',\n",
              "  'Food delivery platform Zomato leads $60 million Series D round of investment. Magicpin has 6 million active users with 25 sessions per month',\n",
              "  'POSITIVE',\n",
              "  0.7904181480407715,\n",
              "  'https://www.moneycontrol.com/news/business/startup/magicpin-bags-60-million-in-its-series-d-round-led-by-zomato-7704121.html'],\n",
              " ['ZOMATO',\n",
              "  'Food delivery platform BigBasket is among the first to wish Paytm good luck.',\n",
              "  'NEGATIVE',\n",
              "  0.6091110706329346,\n",
              "  'https://www.moneycontrol.com/news/trends/paytm-ipo-on-paytms-big-ipo-day-zomato-bigbasket-send-dahi-shakkar-basket-full-of-luck-7690011.html'],\n",
              " ['ZOMATO',\n",
              "  'All photographs subject to copyright.',\n",
              "  'NEGATIVE',\n",
              "  0.9676677584648132,\n",
              "  'https://www.moneycontrol.com/news/photos/business/stocks/buzzing-stocks-paytm-one-97-communications-sapphire-foods-onelife-capital-advisors-and-other-stocks-in-news-today-7733161.html'],\n",
              " ['ZOMATO',\n",
              "  'Angel Broking is bullish on Zomato and has recommended buy rating on the stock',\n",
              "  'NEGATIVE',\n",
              "  0.9668949842453003,\n",
              "  'https://www.moneycontrol.com/news/business/stocks/buy-zomato-target-of-rs-183-geojit-7735931.html'],\n",
              " ['ZOMATO',\n",
              "  \"Info Edge founder and vice-chairman Bikhchandani comments. He was responding to analysts who asked him about Zomato's strategy of investing\",\n",
              "  'POSITIVE',\n",
              "  0.7293859720230103,\n",
              "  'https://www.moneycontrol.com/news/business/companies/info-edge-to-use-profits-not-risk-capital-like-zomato-to-invest-founder-sanjeev-bikhchandani-7724651.html'],\n",
              " ['ZOMATO',\n",
              "  'Food delivery giant Zomato will be added to MSCI India Index from December 1, 2021.',\n",
              "  'POSITIVE',\n",
              "  0.8657234311103821,\n",
              "  'https://www.moneycontrol.com/news/business/markets/msci-adds-zomato-irctc-mindtree-4-others-to-india-index-ipca-labs-rec-to-be-deleted-7711561.html'],\n",
              " ['ZOMATO',\n",
              "  \"Mobile wallet plunges 27.25 percent on debut day. Only two issues among this year's IPOs have crossed the Rs 1-lakh-crore mark\",\n",
              "  'NEGATIVE',\n",
              "  0.9931377172470093,\n",
              "  'https://www.moneycontrol.com/news/business/markets/paytm-enters-rs-1-lakh-crore-mcap-club-despite-a-debut-fiasco-7740851.html'],\n",
              " ['ZOMATO',\n",
              "  'Online food delivery firm Zomato is said to invest $75 million in Shiprocket. Move comes as India’s quick commerce market is expected to grow',\n",
              "  'POSITIVE',\n",
              "  0.995121419429779,\n",
              "  'https://www.moneycontrol.com/news/business/startup/exclusive-zomato-in-advance-talks-to-invest-in-shiprocket-in-200-million-round-7687471.html'],\n",
              " ['ZOMATO',\n",
              "  'Online food delivery platform reported an increase of 87 percent in loss.',\n",
              "  'NEGATIVE',\n",
              "  0.9994181394577026,\n",
              "  'https://www.moneycontrol.com/news/business/stocks/what-should-investors-do-with-zomato-post-q2-earnings-buy-sell-or-hold-7704901.html'],\n",
              " ['ZOMATO',\n",
              "  'Food delivery platform Zomato recently raised over $1.25 billion by listing on the stock market. It is also looking to exit non-core businesses',\n",
              "  'NEGATIVE',\n",
              "  0.9987953901290894,\n",
              "  'https://www.moneycontrol.com/news/business/companies/exclusive-zomato-wants-to-do-an-info-edge-scouts-for-investments-in-startups-7698731.html'],\n",
              " ['NYKAA',\n",
              "  'Retail investors put in bids for 3.50 times of reserved portion. Employees have subscribed for 1,69,140 equity shares',\n",
              "  'NEGATIVE',\n",
              "  0.960218608379364,\n",
              "  'https://www.moneycontrol.com/news/business/ipo/nykaa-ipo-opens-issue-subscribed-10-so-far-on-first-day-of-bidding-7639861.html'],\n",
              " ['NYKAA',\n",
              "  \"Investors can check share allotment status on BSE website. Nykaa operator FSN E-Commerce Ventures' public offering was subscribed 81.78 times\",\n",
              "  'NEGATIVE',\n",
              "  0.9751524925231934,\n",
              "  'https://www.moneycontrol.com/news/business/ipo/nykaa-ipo-share-allotment-to-be-finalised-today-also-check-listing-date-grey-market-premium-here-7689721.html'],\n",
              " ['NYKAA',\n",
              "  'Retail investors can invest a minimum of Rs 13,500 and a maximum of Rs 1,89,000.',\n",
              "  'NEGATIVE',\n",
              "  0.659213125705719,\n",
              "  'https://www.moneycontrol.com/news/business/ipo/nykaa-ipo-to-open-on-october-28-price-band-at-rs-1085-1125-per-share-7613081.html'],\n",
              " ['NYKAA',\n",
              "  \"FSN E-commerce Ventures' IPO was subscribed 81.78 times in October 28-November 1.\",\n",
              "  'NEGATIVE',\n",
              "  0.9873227477073669,\n",
              "  'https://www.moneycontrol.com/news/business/ipo/nykaa-makes-a-stellar-debut-stock-lists-at-rs-2018-with-79-premium-7698501.html'],\n",
              " ['NYKAA',\n",
              "  'DMart’s business model was spot-on, Nykaa CEO Nayar says.',\n",
              "  'POSITIVE',\n",
              "  0.9455984234809875,\n",
              "  'https://www.moneycontrol.com/news/business/companies/nykaa-paytm-and-long-term-investing-7719421.html'],\n",
              " ['NYKAA',\n",
              "  'Bidders will start bidding for the third-largest IPO of the year on October 28.',\n",
              "  'POSITIVE',\n",
              "  0.9611591696739197,\n",
              "  'https://www.moneycontrol.com/news/business/ipo/nykaa-ipo-opens-on-october-28-10-key-things-to-know-before-subscribing-to-the-issue-7622901.html'],\n",
              " ['NYKAA',\n",
              "  'FSN E-Commerce Ventures (Nykaa) has posted 94.65% jump in net profit.',\n",
              "  'POSITIVE',\n",
              "  0.9607256650924683,\n",
              "  'https://www.moneycontrol.com/news/business/earnings/fsn-e-conykaa-standalone-september-2021-net-sales-at-rs-49-39-crore-up-21-6-y-o-y-7738801.html'],\n",
              " ['NYKAA',\n",
              "  'The issue has received bids for 216.59 crore shares against an IPO size of 2.64 crore shares.',\n",
              "  'NEGATIVE',\n",
              "  0.9782252311706543,\n",
              "  'https://www.moneycontrol.com/news/business/ipo/nykaa-ipo-subscribed-5-71-times-on-final-day-qib-portion-booked-4-73-times-7658921.html'],\n",
              " ['NYKAA',\n",
              "  '‘Nykaa is rightly placed to tap the high growth digital/fashion market,’ says Motilal Oswal.',\n",
              "  'POSITIVE',\n",
              "  0.9993256330490112,\n",
              "  'https://www.moneycontrol.com/news/business/ipo/nykaa-ipo-day-2-experts-give-a-thumbs-up-to-the-public-issue-7642851.html'],\n",
              " ['NYKAA',\n",
              "  'Online retailer Nykaa has acquired skincare brand, Dot & Key.',\n",
              "  'POSITIVE',\n",
              "  0.8124743103981018,\n",
              "  'https://www.moneycontrol.com/news/business/earnings/nykaa-q2-result-pat-comes-in-at-rs-1-2-crore-revenue-surges-47-yoy-7718181.html']]"
            ]
          },
          "metadata": {},
          "execution_count": 30
        }
      ]
    },
    {
      "cell_type": "code",
      "metadata": {
        "id": "il2jdqZwKq7f"
      },
      "source": [
        "final_output.insert(0, ['Ticker', 'Summary', 'Label', 'Confidence', 'URL'])"
      ],
      "execution_count": 31,
      "outputs": []
    },
    {
      "cell_type": "code",
      "metadata": {
        "colab": {
          "base_uri": "https://localhost:8080/"
        },
        "id": "rJtulsCPKy69",
        "outputId": "f1c86394-e230-4ae4-fcdb-c873b03fabe9"
      },
      "source": [
        "final_output"
      ],
      "execution_count": 32,
      "outputs": [
        {
          "output_type": "execute_result",
          "data": {
            "text/plain": [
              "[['Ticker', 'Summary', 'Label', 'Confidence', 'URL'],\n",
              " ['ZOMATO',\n",
              "  'Food delivery platform Zomato leads $60 million Series D round of investment. Magicpin has 6 million active users with 25 sessions per month',\n",
              "  'POSITIVE',\n",
              "  0.7904181480407715,\n",
              "  'https://www.moneycontrol.com/news/business/startup/magicpin-bags-60-million-in-its-series-d-round-led-by-zomato-7704121.html'],\n",
              " ['ZOMATO',\n",
              "  'Food delivery platform BigBasket is among the first to wish Paytm good luck.',\n",
              "  'NEGATIVE',\n",
              "  0.6091110706329346,\n",
              "  'https://www.moneycontrol.com/news/trends/paytm-ipo-on-paytms-big-ipo-day-zomato-bigbasket-send-dahi-shakkar-basket-full-of-luck-7690011.html'],\n",
              " ['ZOMATO',\n",
              "  'All photographs subject to copyright.',\n",
              "  'NEGATIVE',\n",
              "  0.9676677584648132,\n",
              "  'https://www.moneycontrol.com/news/photos/business/stocks/buzzing-stocks-paytm-one-97-communications-sapphire-foods-onelife-capital-advisors-and-other-stocks-in-news-today-7733161.html'],\n",
              " ['ZOMATO',\n",
              "  'Angel Broking is bullish on Zomato and has recommended buy rating on the stock',\n",
              "  'NEGATIVE',\n",
              "  0.9668949842453003,\n",
              "  'https://www.moneycontrol.com/news/business/stocks/buy-zomato-target-of-rs-183-geojit-7735931.html'],\n",
              " ['ZOMATO',\n",
              "  \"Info Edge founder and vice-chairman Bikhchandani comments. He was responding to analysts who asked him about Zomato's strategy of investing\",\n",
              "  'POSITIVE',\n",
              "  0.7293859720230103,\n",
              "  'https://www.moneycontrol.com/news/business/companies/info-edge-to-use-profits-not-risk-capital-like-zomato-to-invest-founder-sanjeev-bikhchandani-7724651.html'],\n",
              " ['ZOMATO',\n",
              "  'Food delivery giant Zomato will be added to MSCI India Index from December 1, 2021.',\n",
              "  'POSITIVE',\n",
              "  0.8657234311103821,\n",
              "  'https://www.moneycontrol.com/news/business/markets/msci-adds-zomato-irctc-mindtree-4-others-to-india-index-ipca-labs-rec-to-be-deleted-7711561.html'],\n",
              " ['ZOMATO',\n",
              "  \"Mobile wallet plunges 27.25 percent on debut day. Only two issues among this year's IPOs have crossed the Rs 1-lakh-crore mark\",\n",
              "  'NEGATIVE',\n",
              "  0.9931377172470093,\n",
              "  'https://www.moneycontrol.com/news/business/markets/paytm-enters-rs-1-lakh-crore-mcap-club-despite-a-debut-fiasco-7740851.html'],\n",
              " ['ZOMATO',\n",
              "  'Online food delivery firm Zomato is said to invest $75 million in Shiprocket. Move comes as India’s quick commerce market is expected to grow',\n",
              "  'POSITIVE',\n",
              "  0.995121419429779,\n",
              "  'https://www.moneycontrol.com/news/business/startup/exclusive-zomato-in-advance-talks-to-invest-in-shiprocket-in-200-million-round-7687471.html'],\n",
              " ['ZOMATO',\n",
              "  'Online food delivery platform reported an increase of 87 percent in loss.',\n",
              "  'NEGATIVE',\n",
              "  0.9994181394577026,\n",
              "  'https://www.moneycontrol.com/news/business/stocks/what-should-investors-do-with-zomato-post-q2-earnings-buy-sell-or-hold-7704901.html'],\n",
              " ['ZOMATO',\n",
              "  'Food delivery platform Zomato recently raised over $1.25 billion by listing on the stock market. It is also looking to exit non-core businesses',\n",
              "  'NEGATIVE',\n",
              "  0.9987953901290894,\n",
              "  'https://www.moneycontrol.com/news/business/companies/exclusive-zomato-wants-to-do-an-info-edge-scouts-for-investments-in-startups-7698731.html'],\n",
              " ['NYKAA',\n",
              "  'Retail investors put in bids for 3.50 times of reserved portion. Employees have subscribed for 1,69,140 equity shares',\n",
              "  'NEGATIVE',\n",
              "  0.960218608379364,\n",
              "  'https://www.moneycontrol.com/news/business/ipo/nykaa-ipo-opens-issue-subscribed-10-so-far-on-first-day-of-bidding-7639861.html'],\n",
              " ['NYKAA',\n",
              "  \"Investors can check share allotment status on BSE website. Nykaa operator FSN E-Commerce Ventures' public offering was subscribed 81.78 times\",\n",
              "  'NEGATIVE',\n",
              "  0.9751524925231934,\n",
              "  'https://www.moneycontrol.com/news/business/ipo/nykaa-ipo-share-allotment-to-be-finalised-today-also-check-listing-date-grey-market-premium-here-7689721.html'],\n",
              " ['NYKAA',\n",
              "  'Retail investors can invest a minimum of Rs 13,500 and a maximum of Rs 1,89,000.',\n",
              "  'NEGATIVE',\n",
              "  0.659213125705719,\n",
              "  'https://www.moneycontrol.com/news/business/ipo/nykaa-ipo-to-open-on-october-28-price-band-at-rs-1085-1125-per-share-7613081.html'],\n",
              " ['NYKAA',\n",
              "  \"FSN E-commerce Ventures' IPO was subscribed 81.78 times in October 28-November 1.\",\n",
              "  'NEGATIVE',\n",
              "  0.9873227477073669,\n",
              "  'https://www.moneycontrol.com/news/business/ipo/nykaa-makes-a-stellar-debut-stock-lists-at-rs-2018-with-79-premium-7698501.html'],\n",
              " ['NYKAA',\n",
              "  'DMart’s business model was spot-on, Nykaa CEO Nayar says.',\n",
              "  'POSITIVE',\n",
              "  0.9455984234809875,\n",
              "  'https://www.moneycontrol.com/news/business/companies/nykaa-paytm-and-long-term-investing-7719421.html'],\n",
              " ['NYKAA',\n",
              "  'Bidders will start bidding for the third-largest IPO of the year on October 28.',\n",
              "  'POSITIVE',\n",
              "  0.9611591696739197,\n",
              "  'https://www.moneycontrol.com/news/business/ipo/nykaa-ipo-opens-on-october-28-10-key-things-to-know-before-subscribing-to-the-issue-7622901.html'],\n",
              " ['NYKAA',\n",
              "  'FSN E-Commerce Ventures (Nykaa) has posted 94.65% jump in net profit.',\n",
              "  'POSITIVE',\n",
              "  0.9607256650924683,\n",
              "  'https://www.moneycontrol.com/news/business/earnings/fsn-e-conykaa-standalone-september-2021-net-sales-at-rs-49-39-crore-up-21-6-y-o-y-7738801.html'],\n",
              " ['NYKAA',\n",
              "  'The issue has received bids for 216.59 crore shares against an IPO size of 2.64 crore shares.',\n",
              "  'NEGATIVE',\n",
              "  0.9782252311706543,\n",
              "  'https://www.moneycontrol.com/news/business/ipo/nykaa-ipo-subscribed-5-71-times-on-final-day-qib-portion-booked-4-73-times-7658921.html'],\n",
              " ['NYKAA',\n",
              "  '‘Nykaa is rightly placed to tap the high growth digital/fashion market,’ says Motilal Oswal.',\n",
              "  'POSITIVE',\n",
              "  0.9993256330490112,\n",
              "  'https://www.moneycontrol.com/news/business/ipo/nykaa-ipo-day-2-experts-give-a-thumbs-up-to-the-public-issue-7642851.html'],\n",
              " ['NYKAA',\n",
              "  'Online retailer Nykaa has acquired skincare brand, Dot & Key.',\n",
              "  'POSITIVE',\n",
              "  0.8124743103981018,\n",
              "  'https://www.moneycontrol.com/news/business/earnings/nykaa-q2-result-pat-comes-in-at-rs-1-2-crore-revenue-surges-47-yoy-7718181.html']]"
            ]
          },
          "metadata": {},
          "execution_count": 32
        }
      ]
    },
    {
      "cell_type": "code",
      "metadata": {
        "id": "EzueZpOhK0-K"
      },
      "source": [
        "import csv\n",
        "with open('assetsummaries.csv', mode='w', newline='') as f:\n",
        "    csv_writer = csv.writer(f, delimiter=',', quotechar='\"', quoting=csv.QUOTE_MINIMAL)\n",
        "    csv_writer.writerows(final_output)"
      ],
      "execution_count": 33,
      "outputs": []
    }
  ]
}